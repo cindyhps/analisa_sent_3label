{
  "nbformat": 4,
  "nbformat_minor": 0,
  "metadata": {
    "colab": {
      "provenance": [],
      "gpuType": "T4",
      "authorship_tag": "ABX9TyOqz9PnTOOQjn9ZJZdWtA9B",
      "include_colab_link": true
    },
    "kernelspec": {
      "name": "python3",
      "display_name": "Python 3"
    },
    "language_info": {
      "name": "python"
    },
    "accelerator": "GPU",
    "widgets": {
      "application/vnd.jupyter.widget-state+json": {
        "e4def3f5bcab4a51aa2a2d9a73fc3b94": {
          "model_module": "@jupyter-widgets/controls",
          "model_name": "HBoxModel",
          "model_module_version": "1.5.0",
          "state": {
            "_dom_classes": [],
            "_model_module": "@jupyter-widgets/controls",
            "_model_module_version": "1.5.0",
            "_model_name": "HBoxModel",
            "_view_count": null,
            "_view_module": "@jupyter-widgets/controls",
            "_view_module_version": "1.5.0",
            "_view_name": "HBoxView",
            "box_style": "",
            "children": [
              "IPY_MODEL_2a82a2d3dd424e95b0e80fe0ec2c25e2",
              "IPY_MODEL_574706c426894455afe554a7e8d259bd",
              "IPY_MODEL_6323f8461412484fb194fd1158d0b1b8"
            ],
            "layout": "IPY_MODEL_d7ea98aceb904e7498539e0b16b0a8b9"
          }
        },
        "2a82a2d3dd424e95b0e80fe0ec2c25e2": {
          "model_module": "@jupyter-widgets/controls",
          "model_name": "HTMLModel",
          "model_module_version": "1.5.0",
          "state": {
            "_dom_classes": [],
            "_model_module": "@jupyter-widgets/controls",
            "_model_module_version": "1.5.0",
            "_model_name": "HTMLModel",
            "_view_count": null,
            "_view_module": "@jupyter-widgets/controls",
            "_view_module_version": "1.5.0",
            "_view_name": "HTMLView",
            "description": "",
            "description_tooltip": null,
            "layout": "IPY_MODEL_20ecc6201cc942b1b2e3b64739ca95ad",
            "placeholder": "​",
            "style": "IPY_MODEL_571a3f724ca24ea9b025e7b79e58f776",
            "value": "Map: 100%"
          }
        },
        "574706c426894455afe554a7e8d259bd": {
          "model_module": "@jupyter-widgets/controls",
          "model_name": "FloatProgressModel",
          "model_module_version": "1.5.0",
          "state": {
            "_dom_classes": [],
            "_model_module": "@jupyter-widgets/controls",
            "_model_module_version": "1.5.0",
            "_model_name": "FloatProgressModel",
            "_view_count": null,
            "_view_module": "@jupyter-widgets/controls",
            "_view_module_version": "1.5.0",
            "_view_name": "ProgressView",
            "bar_style": "success",
            "description": "",
            "description_tooltip": null,
            "layout": "IPY_MODEL_c6ac44762cb7425ea818d3955d397825",
            "max": 500,
            "min": 0,
            "orientation": "horizontal",
            "style": "IPY_MODEL_bf4154f424ea4b559ca92968bb042dc9",
            "value": 500
          }
        },
        "6323f8461412484fb194fd1158d0b1b8": {
          "model_module": "@jupyter-widgets/controls",
          "model_name": "HTMLModel",
          "model_module_version": "1.5.0",
          "state": {
            "_dom_classes": [],
            "_model_module": "@jupyter-widgets/controls",
            "_model_module_version": "1.5.0",
            "_model_name": "HTMLModel",
            "_view_count": null,
            "_view_module": "@jupyter-widgets/controls",
            "_view_module_version": "1.5.0",
            "_view_name": "HTMLView",
            "description": "",
            "description_tooltip": null,
            "layout": "IPY_MODEL_64669b2094b64b05b129b7814fe07104",
            "placeholder": "​",
            "style": "IPY_MODEL_1d03682b5f994861a099ae8695a1347e",
            "value": " 500/500 [00:00&lt;00:00, 1700.99 examples/s]"
          }
        },
        "d7ea98aceb904e7498539e0b16b0a8b9": {
          "model_module": "@jupyter-widgets/base",
          "model_name": "LayoutModel",
          "model_module_version": "1.2.0",
          "state": {
            "_model_module": "@jupyter-widgets/base",
            "_model_module_version": "1.2.0",
            "_model_name": "LayoutModel",
            "_view_count": null,
            "_view_module": "@jupyter-widgets/base",
            "_view_module_version": "1.2.0",
            "_view_name": "LayoutView",
            "align_content": null,
            "align_items": null,
            "align_self": null,
            "border": null,
            "bottom": null,
            "display": null,
            "flex": null,
            "flex_flow": null,
            "grid_area": null,
            "grid_auto_columns": null,
            "grid_auto_flow": null,
            "grid_auto_rows": null,
            "grid_column": null,
            "grid_gap": null,
            "grid_row": null,
            "grid_template_areas": null,
            "grid_template_columns": null,
            "grid_template_rows": null,
            "height": null,
            "justify_content": null,
            "justify_items": null,
            "left": null,
            "margin": null,
            "max_height": null,
            "max_width": null,
            "min_height": null,
            "min_width": null,
            "object_fit": null,
            "object_position": null,
            "order": null,
            "overflow": null,
            "overflow_x": null,
            "overflow_y": null,
            "padding": null,
            "right": null,
            "top": null,
            "visibility": null,
            "width": null
          }
        },
        "20ecc6201cc942b1b2e3b64739ca95ad": {
          "model_module": "@jupyter-widgets/base",
          "model_name": "LayoutModel",
          "model_module_version": "1.2.0",
          "state": {
            "_model_module": "@jupyter-widgets/base",
            "_model_module_version": "1.2.0",
            "_model_name": "LayoutModel",
            "_view_count": null,
            "_view_module": "@jupyter-widgets/base",
            "_view_module_version": "1.2.0",
            "_view_name": "LayoutView",
            "align_content": null,
            "align_items": null,
            "align_self": null,
            "border": null,
            "bottom": null,
            "display": null,
            "flex": null,
            "flex_flow": null,
            "grid_area": null,
            "grid_auto_columns": null,
            "grid_auto_flow": null,
            "grid_auto_rows": null,
            "grid_column": null,
            "grid_gap": null,
            "grid_row": null,
            "grid_template_areas": null,
            "grid_template_columns": null,
            "grid_template_rows": null,
            "height": null,
            "justify_content": null,
            "justify_items": null,
            "left": null,
            "margin": null,
            "max_height": null,
            "max_width": null,
            "min_height": null,
            "min_width": null,
            "object_fit": null,
            "object_position": null,
            "order": null,
            "overflow": null,
            "overflow_x": null,
            "overflow_y": null,
            "padding": null,
            "right": null,
            "top": null,
            "visibility": null,
            "width": null
          }
        },
        "571a3f724ca24ea9b025e7b79e58f776": {
          "model_module": "@jupyter-widgets/controls",
          "model_name": "DescriptionStyleModel",
          "model_module_version": "1.5.0",
          "state": {
            "_model_module": "@jupyter-widgets/controls",
            "_model_module_version": "1.5.0",
            "_model_name": "DescriptionStyleModel",
            "_view_count": null,
            "_view_module": "@jupyter-widgets/base",
            "_view_module_version": "1.2.0",
            "_view_name": "StyleView",
            "description_width": ""
          }
        },
        "c6ac44762cb7425ea818d3955d397825": {
          "model_module": "@jupyter-widgets/base",
          "model_name": "LayoutModel",
          "model_module_version": "1.2.0",
          "state": {
            "_model_module": "@jupyter-widgets/base",
            "_model_module_version": "1.2.0",
            "_model_name": "LayoutModel",
            "_view_count": null,
            "_view_module": "@jupyter-widgets/base",
            "_view_module_version": "1.2.0",
            "_view_name": "LayoutView",
            "align_content": null,
            "align_items": null,
            "align_self": null,
            "border": null,
            "bottom": null,
            "display": null,
            "flex": null,
            "flex_flow": null,
            "grid_area": null,
            "grid_auto_columns": null,
            "grid_auto_flow": null,
            "grid_auto_rows": null,
            "grid_column": null,
            "grid_gap": null,
            "grid_row": null,
            "grid_template_areas": null,
            "grid_template_columns": null,
            "grid_template_rows": null,
            "height": null,
            "justify_content": null,
            "justify_items": null,
            "left": null,
            "margin": null,
            "max_height": null,
            "max_width": null,
            "min_height": null,
            "min_width": null,
            "object_fit": null,
            "object_position": null,
            "order": null,
            "overflow": null,
            "overflow_x": null,
            "overflow_y": null,
            "padding": null,
            "right": null,
            "top": null,
            "visibility": null,
            "width": null
          }
        },
        "bf4154f424ea4b559ca92968bb042dc9": {
          "model_module": "@jupyter-widgets/controls",
          "model_name": "ProgressStyleModel",
          "model_module_version": "1.5.0",
          "state": {
            "_model_module": "@jupyter-widgets/controls",
            "_model_module_version": "1.5.0",
            "_model_name": "ProgressStyleModel",
            "_view_count": null,
            "_view_module": "@jupyter-widgets/base",
            "_view_module_version": "1.2.0",
            "_view_name": "StyleView",
            "bar_color": null,
            "description_width": ""
          }
        },
        "64669b2094b64b05b129b7814fe07104": {
          "model_module": "@jupyter-widgets/base",
          "model_name": "LayoutModel",
          "model_module_version": "1.2.0",
          "state": {
            "_model_module": "@jupyter-widgets/base",
            "_model_module_version": "1.2.0",
            "_model_name": "LayoutModel",
            "_view_count": null,
            "_view_module": "@jupyter-widgets/base",
            "_view_module_version": "1.2.0",
            "_view_name": "LayoutView",
            "align_content": null,
            "align_items": null,
            "align_self": null,
            "border": null,
            "bottom": null,
            "display": null,
            "flex": null,
            "flex_flow": null,
            "grid_area": null,
            "grid_auto_columns": null,
            "grid_auto_flow": null,
            "grid_auto_rows": null,
            "grid_column": null,
            "grid_gap": null,
            "grid_row": null,
            "grid_template_areas": null,
            "grid_template_columns": null,
            "grid_template_rows": null,
            "height": null,
            "justify_content": null,
            "justify_items": null,
            "left": null,
            "margin": null,
            "max_height": null,
            "max_width": null,
            "min_height": null,
            "min_width": null,
            "object_fit": null,
            "object_position": null,
            "order": null,
            "overflow": null,
            "overflow_x": null,
            "overflow_y": null,
            "padding": null,
            "right": null,
            "top": null,
            "visibility": null,
            "width": null
          }
        },
        "1d03682b5f994861a099ae8695a1347e": {
          "model_module": "@jupyter-widgets/controls",
          "model_name": "DescriptionStyleModel",
          "model_module_version": "1.5.0",
          "state": {
            "_model_module": "@jupyter-widgets/controls",
            "_model_module_version": "1.5.0",
            "_model_name": "DescriptionStyleModel",
            "_view_count": null,
            "_view_module": "@jupyter-widgets/base",
            "_view_module_version": "1.2.0",
            "_view_name": "StyleView",
            "description_width": ""
          }
        },
        "d6a2622fc23747a19f662c1ba4528b5b": {
          "model_module": "@jupyter-widgets/controls",
          "model_name": "HBoxModel",
          "model_module_version": "1.5.0",
          "state": {
            "_dom_classes": [],
            "_model_module": "@jupyter-widgets/controls",
            "_model_module_version": "1.5.0",
            "_model_name": "HBoxModel",
            "_view_count": null,
            "_view_module": "@jupyter-widgets/controls",
            "_view_module_version": "1.5.0",
            "_view_name": "HBoxView",
            "box_style": "",
            "children": [
              "IPY_MODEL_1ae1dd068dc34142b4549a412949ce6e",
              "IPY_MODEL_869bef0b6c35491f9e12cb13cd3cc7bc",
              "IPY_MODEL_852e5368365842a08eb62ce8550eee01"
            ],
            "layout": "IPY_MODEL_c518bf6ecfc84e619b401dd2c2af8c20"
          }
        },
        "1ae1dd068dc34142b4549a412949ce6e": {
          "model_module": "@jupyter-widgets/controls",
          "model_name": "HTMLModel",
          "model_module_version": "1.5.0",
          "state": {
            "_dom_classes": [],
            "_model_module": "@jupyter-widgets/controls",
            "_model_module_version": "1.5.0",
            "_model_name": "HTMLModel",
            "_view_count": null,
            "_view_module": "@jupyter-widgets/controls",
            "_view_module_version": "1.5.0",
            "_view_name": "HTMLView",
            "description": "",
            "description_tooltip": null,
            "layout": "IPY_MODEL_c3df9c98629d4934a1cea5755eddc781",
            "placeholder": "​",
            "style": "IPY_MODEL_4272b70ecc1448dbb5e002d01a176260",
            "value": "Map: 100%"
          }
        },
        "869bef0b6c35491f9e12cb13cd3cc7bc": {
          "model_module": "@jupyter-widgets/controls",
          "model_name": "FloatProgressModel",
          "model_module_version": "1.5.0",
          "state": {
            "_dom_classes": [],
            "_model_module": "@jupyter-widgets/controls",
            "_model_module_version": "1.5.0",
            "_model_name": "FloatProgressModel",
            "_view_count": null,
            "_view_module": "@jupyter-widgets/controls",
            "_view_module_version": "1.5.0",
            "_view_name": "ProgressView",
            "bar_style": "success",
            "description": "",
            "description_tooltip": null,
            "layout": "IPY_MODEL_0467abf354fd49a68acb952a435ce6be",
            "max": 11000,
            "min": 0,
            "orientation": "horizontal",
            "style": "IPY_MODEL_7f8956d7a8404117b3c81feca699b432",
            "value": 11000
          }
        },
        "852e5368365842a08eb62ce8550eee01": {
          "model_module": "@jupyter-widgets/controls",
          "model_name": "HTMLModel",
          "model_module_version": "1.5.0",
          "state": {
            "_dom_classes": [],
            "_model_module": "@jupyter-widgets/controls",
            "_model_module_version": "1.5.0",
            "_model_name": "HTMLModel",
            "_view_count": null,
            "_view_module": "@jupyter-widgets/controls",
            "_view_module_version": "1.5.0",
            "_view_name": "HTMLView",
            "description": "",
            "description_tooltip": null,
            "layout": "IPY_MODEL_557bdef64c514fbdaa0378d30d04ae0d",
            "placeholder": "​",
            "style": "IPY_MODEL_c3b4fcc369cd47c38d5abf17646bf6a2",
            "value": " 11000/11000 [00:08&lt;00:00, 1526.25 examples/s]"
          }
        },
        "c518bf6ecfc84e619b401dd2c2af8c20": {
          "model_module": "@jupyter-widgets/base",
          "model_name": "LayoutModel",
          "model_module_version": "1.2.0",
          "state": {
            "_model_module": "@jupyter-widgets/base",
            "_model_module_version": "1.2.0",
            "_model_name": "LayoutModel",
            "_view_count": null,
            "_view_module": "@jupyter-widgets/base",
            "_view_module_version": "1.2.0",
            "_view_name": "LayoutView",
            "align_content": null,
            "align_items": null,
            "align_self": null,
            "border": null,
            "bottom": null,
            "display": null,
            "flex": null,
            "flex_flow": null,
            "grid_area": null,
            "grid_auto_columns": null,
            "grid_auto_flow": null,
            "grid_auto_rows": null,
            "grid_column": null,
            "grid_gap": null,
            "grid_row": null,
            "grid_template_areas": null,
            "grid_template_columns": null,
            "grid_template_rows": null,
            "height": null,
            "justify_content": null,
            "justify_items": null,
            "left": null,
            "margin": null,
            "max_height": null,
            "max_width": null,
            "min_height": null,
            "min_width": null,
            "object_fit": null,
            "object_position": null,
            "order": null,
            "overflow": null,
            "overflow_x": null,
            "overflow_y": null,
            "padding": null,
            "right": null,
            "top": null,
            "visibility": null,
            "width": null
          }
        },
        "c3df9c98629d4934a1cea5755eddc781": {
          "model_module": "@jupyter-widgets/base",
          "model_name": "LayoutModel",
          "model_module_version": "1.2.0",
          "state": {
            "_model_module": "@jupyter-widgets/base",
            "_model_module_version": "1.2.0",
            "_model_name": "LayoutModel",
            "_view_count": null,
            "_view_module": "@jupyter-widgets/base",
            "_view_module_version": "1.2.0",
            "_view_name": "LayoutView",
            "align_content": null,
            "align_items": null,
            "align_self": null,
            "border": null,
            "bottom": null,
            "display": null,
            "flex": null,
            "flex_flow": null,
            "grid_area": null,
            "grid_auto_columns": null,
            "grid_auto_flow": null,
            "grid_auto_rows": null,
            "grid_column": null,
            "grid_gap": null,
            "grid_row": null,
            "grid_template_areas": null,
            "grid_template_columns": null,
            "grid_template_rows": null,
            "height": null,
            "justify_content": null,
            "justify_items": null,
            "left": null,
            "margin": null,
            "max_height": null,
            "max_width": null,
            "min_height": null,
            "min_width": null,
            "object_fit": null,
            "object_position": null,
            "order": null,
            "overflow": null,
            "overflow_x": null,
            "overflow_y": null,
            "padding": null,
            "right": null,
            "top": null,
            "visibility": null,
            "width": null
          }
        },
        "4272b70ecc1448dbb5e002d01a176260": {
          "model_module": "@jupyter-widgets/controls",
          "model_name": "DescriptionStyleModel",
          "model_module_version": "1.5.0",
          "state": {
            "_model_module": "@jupyter-widgets/controls",
            "_model_module_version": "1.5.0",
            "_model_name": "DescriptionStyleModel",
            "_view_count": null,
            "_view_module": "@jupyter-widgets/base",
            "_view_module_version": "1.2.0",
            "_view_name": "StyleView",
            "description_width": ""
          }
        },
        "0467abf354fd49a68acb952a435ce6be": {
          "model_module": "@jupyter-widgets/base",
          "model_name": "LayoutModel",
          "model_module_version": "1.2.0",
          "state": {
            "_model_module": "@jupyter-widgets/base",
            "_model_module_version": "1.2.0",
            "_model_name": "LayoutModel",
            "_view_count": null,
            "_view_module": "@jupyter-widgets/base",
            "_view_module_version": "1.2.0",
            "_view_name": "LayoutView",
            "align_content": null,
            "align_items": null,
            "align_self": null,
            "border": null,
            "bottom": null,
            "display": null,
            "flex": null,
            "flex_flow": null,
            "grid_area": null,
            "grid_auto_columns": null,
            "grid_auto_flow": null,
            "grid_auto_rows": null,
            "grid_column": null,
            "grid_gap": null,
            "grid_row": null,
            "grid_template_areas": null,
            "grid_template_columns": null,
            "grid_template_rows": null,
            "height": null,
            "justify_content": null,
            "justify_items": null,
            "left": null,
            "margin": null,
            "max_height": null,
            "max_width": null,
            "min_height": null,
            "min_width": null,
            "object_fit": null,
            "object_position": null,
            "order": null,
            "overflow": null,
            "overflow_x": null,
            "overflow_y": null,
            "padding": null,
            "right": null,
            "top": null,
            "visibility": null,
            "width": null
          }
        },
        "7f8956d7a8404117b3c81feca699b432": {
          "model_module": "@jupyter-widgets/controls",
          "model_name": "ProgressStyleModel",
          "model_module_version": "1.5.0",
          "state": {
            "_model_module": "@jupyter-widgets/controls",
            "_model_module_version": "1.5.0",
            "_model_name": "ProgressStyleModel",
            "_view_count": null,
            "_view_module": "@jupyter-widgets/base",
            "_view_module_version": "1.2.0",
            "_view_name": "StyleView",
            "bar_color": null,
            "description_width": ""
          }
        },
        "557bdef64c514fbdaa0378d30d04ae0d": {
          "model_module": "@jupyter-widgets/base",
          "model_name": "LayoutModel",
          "model_module_version": "1.2.0",
          "state": {
            "_model_module": "@jupyter-widgets/base",
            "_model_module_version": "1.2.0",
            "_model_name": "LayoutModel",
            "_view_count": null,
            "_view_module": "@jupyter-widgets/base",
            "_view_module_version": "1.2.0",
            "_view_name": "LayoutView",
            "align_content": null,
            "align_items": null,
            "align_self": null,
            "border": null,
            "bottom": null,
            "display": null,
            "flex": null,
            "flex_flow": null,
            "grid_area": null,
            "grid_auto_columns": null,
            "grid_auto_flow": null,
            "grid_auto_rows": null,
            "grid_column": null,
            "grid_gap": null,
            "grid_row": null,
            "grid_template_areas": null,
            "grid_template_columns": null,
            "grid_template_rows": null,
            "height": null,
            "justify_content": null,
            "justify_items": null,
            "left": null,
            "margin": null,
            "max_height": null,
            "max_width": null,
            "min_height": null,
            "min_width": null,
            "object_fit": null,
            "object_position": null,
            "order": null,
            "overflow": null,
            "overflow_x": null,
            "overflow_y": null,
            "padding": null,
            "right": null,
            "top": null,
            "visibility": null,
            "width": null
          }
        },
        "c3b4fcc369cd47c38d5abf17646bf6a2": {
          "model_module": "@jupyter-widgets/controls",
          "model_name": "DescriptionStyleModel",
          "model_module_version": "1.5.0",
          "state": {
            "_model_module": "@jupyter-widgets/controls",
            "_model_module_version": "1.5.0",
            "_model_name": "DescriptionStyleModel",
            "_view_count": null,
            "_view_module": "@jupyter-widgets/base",
            "_view_module_version": "1.2.0",
            "_view_name": "StyleView",
            "description_width": ""
          }
        },
        "975074dfa46044c0b6753bc17410bbaa": {
          "model_module": "@jupyter-widgets/controls",
          "model_name": "HBoxModel",
          "model_module_version": "1.5.0",
          "state": {
            "_dom_classes": [],
            "_model_module": "@jupyter-widgets/controls",
            "_model_module_version": "1.5.0",
            "_model_name": "HBoxModel",
            "_view_count": null,
            "_view_module": "@jupyter-widgets/controls",
            "_view_module_version": "1.5.0",
            "_view_name": "HBoxView",
            "box_style": "",
            "children": [
              "IPY_MODEL_f79d45505a834c3d9ee949236b7c6fef",
              "IPY_MODEL_15ef6c99f29c43a7a1331824d213b653",
              "IPY_MODEL_e0c6444005a64f0a880bfbc62710ad5c"
            ],
            "layout": "IPY_MODEL_6946bc7849854c3ca067271f69b0695a"
          }
        },
        "f79d45505a834c3d9ee949236b7c6fef": {
          "model_module": "@jupyter-widgets/controls",
          "model_name": "HTMLModel",
          "model_module_version": "1.5.0",
          "state": {
            "_dom_classes": [],
            "_model_module": "@jupyter-widgets/controls",
            "_model_module_version": "1.5.0",
            "_model_name": "HTMLModel",
            "_view_count": null,
            "_view_module": "@jupyter-widgets/controls",
            "_view_module_version": "1.5.0",
            "_view_name": "HTMLView",
            "description": "",
            "description_tooltip": null,
            "layout": "IPY_MODEL_8ae09694f1da49c89f6663a073f5f540",
            "placeholder": "​",
            "style": "IPY_MODEL_ca66eedd7c9d461bad056482e434706a",
            "value": "Map: 100%"
          }
        },
        "15ef6c99f29c43a7a1331824d213b653": {
          "model_module": "@jupyter-widgets/controls",
          "model_name": "FloatProgressModel",
          "model_module_version": "1.5.0",
          "state": {
            "_dom_classes": [],
            "_model_module": "@jupyter-widgets/controls",
            "_model_module_version": "1.5.0",
            "_model_name": "FloatProgressModel",
            "_view_count": null,
            "_view_module": "@jupyter-widgets/controls",
            "_view_module_version": "1.5.0",
            "_view_name": "ProgressView",
            "bar_style": "success",
            "description": "",
            "description_tooltip": null,
            "layout": "IPY_MODEL_efe974e13db7445098167fad55ae2a3d",
            "max": 1260,
            "min": 0,
            "orientation": "horizontal",
            "style": "IPY_MODEL_42df27e50d4d47b59e59fcddbbf24aa0",
            "value": 1260
          }
        },
        "e0c6444005a64f0a880bfbc62710ad5c": {
          "model_module": "@jupyter-widgets/controls",
          "model_name": "HTMLModel",
          "model_module_version": "1.5.0",
          "state": {
            "_dom_classes": [],
            "_model_module": "@jupyter-widgets/controls",
            "_model_module_version": "1.5.0",
            "_model_name": "HTMLModel",
            "_view_count": null,
            "_view_module": "@jupyter-widgets/controls",
            "_view_module_version": "1.5.0",
            "_view_name": "HTMLView",
            "description": "",
            "description_tooltip": null,
            "layout": "IPY_MODEL_bd1fb5bdc9e248598c8db40d14e7724d",
            "placeholder": "​",
            "style": "IPY_MODEL_6ec326e213d04dd1b2c4ee2fbdffe1d7",
            "value": " 1260/1260 [00:00&lt;00:00, 1456.45 examples/s]"
          }
        },
        "6946bc7849854c3ca067271f69b0695a": {
          "model_module": "@jupyter-widgets/base",
          "model_name": "LayoutModel",
          "model_module_version": "1.2.0",
          "state": {
            "_model_module": "@jupyter-widgets/base",
            "_model_module_version": "1.2.0",
            "_model_name": "LayoutModel",
            "_view_count": null,
            "_view_module": "@jupyter-widgets/base",
            "_view_module_version": "1.2.0",
            "_view_name": "LayoutView",
            "align_content": null,
            "align_items": null,
            "align_self": null,
            "border": null,
            "bottom": null,
            "display": null,
            "flex": null,
            "flex_flow": null,
            "grid_area": null,
            "grid_auto_columns": null,
            "grid_auto_flow": null,
            "grid_auto_rows": null,
            "grid_column": null,
            "grid_gap": null,
            "grid_row": null,
            "grid_template_areas": null,
            "grid_template_columns": null,
            "grid_template_rows": null,
            "height": null,
            "justify_content": null,
            "justify_items": null,
            "left": null,
            "margin": null,
            "max_height": null,
            "max_width": null,
            "min_height": null,
            "min_width": null,
            "object_fit": null,
            "object_position": null,
            "order": null,
            "overflow": null,
            "overflow_x": null,
            "overflow_y": null,
            "padding": null,
            "right": null,
            "top": null,
            "visibility": null,
            "width": null
          }
        },
        "8ae09694f1da49c89f6663a073f5f540": {
          "model_module": "@jupyter-widgets/base",
          "model_name": "LayoutModel",
          "model_module_version": "1.2.0",
          "state": {
            "_model_module": "@jupyter-widgets/base",
            "_model_module_version": "1.2.0",
            "_model_name": "LayoutModel",
            "_view_count": null,
            "_view_module": "@jupyter-widgets/base",
            "_view_module_version": "1.2.0",
            "_view_name": "LayoutView",
            "align_content": null,
            "align_items": null,
            "align_self": null,
            "border": null,
            "bottom": null,
            "display": null,
            "flex": null,
            "flex_flow": null,
            "grid_area": null,
            "grid_auto_columns": null,
            "grid_auto_flow": null,
            "grid_auto_rows": null,
            "grid_column": null,
            "grid_gap": null,
            "grid_row": null,
            "grid_template_areas": null,
            "grid_template_columns": null,
            "grid_template_rows": null,
            "height": null,
            "justify_content": null,
            "justify_items": null,
            "left": null,
            "margin": null,
            "max_height": null,
            "max_width": null,
            "min_height": null,
            "min_width": null,
            "object_fit": null,
            "object_position": null,
            "order": null,
            "overflow": null,
            "overflow_x": null,
            "overflow_y": null,
            "padding": null,
            "right": null,
            "top": null,
            "visibility": null,
            "width": null
          }
        },
        "ca66eedd7c9d461bad056482e434706a": {
          "model_module": "@jupyter-widgets/controls",
          "model_name": "DescriptionStyleModel",
          "model_module_version": "1.5.0",
          "state": {
            "_model_module": "@jupyter-widgets/controls",
            "_model_module_version": "1.5.0",
            "_model_name": "DescriptionStyleModel",
            "_view_count": null,
            "_view_module": "@jupyter-widgets/base",
            "_view_module_version": "1.2.0",
            "_view_name": "StyleView",
            "description_width": ""
          }
        },
        "efe974e13db7445098167fad55ae2a3d": {
          "model_module": "@jupyter-widgets/base",
          "model_name": "LayoutModel",
          "model_module_version": "1.2.0",
          "state": {
            "_model_module": "@jupyter-widgets/base",
            "_model_module_version": "1.2.0",
            "_model_name": "LayoutModel",
            "_view_count": null,
            "_view_module": "@jupyter-widgets/base",
            "_view_module_version": "1.2.0",
            "_view_name": "LayoutView",
            "align_content": null,
            "align_items": null,
            "align_self": null,
            "border": null,
            "bottom": null,
            "display": null,
            "flex": null,
            "flex_flow": null,
            "grid_area": null,
            "grid_auto_columns": null,
            "grid_auto_flow": null,
            "grid_auto_rows": null,
            "grid_column": null,
            "grid_gap": null,
            "grid_row": null,
            "grid_template_areas": null,
            "grid_template_columns": null,
            "grid_template_rows": null,
            "height": null,
            "justify_content": null,
            "justify_items": null,
            "left": null,
            "margin": null,
            "max_height": null,
            "max_width": null,
            "min_height": null,
            "min_width": null,
            "object_fit": null,
            "object_position": null,
            "order": null,
            "overflow": null,
            "overflow_x": null,
            "overflow_y": null,
            "padding": null,
            "right": null,
            "top": null,
            "visibility": null,
            "width": null
          }
        },
        "42df27e50d4d47b59e59fcddbbf24aa0": {
          "model_module": "@jupyter-widgets/controls",
          "model_name": "ProgressStyleModel",
          "model_module_version": "1.5.0",
          "state": {
            "_model_module": "@jupyter-widgets/controls",
            "_model_module_version": "1.5.0",
            "_model_name": "ProgressStyleModel",
            "_view_count": null,
            "_view_module": "@jupyter-widgets/base",
            "_view_module_version": "1.2.0",
            "_view_name": "StyleView",
            "bar_color": null,
            "description_width": ""
          }
        },
        "bd1fb5bdc9e248598c8db40d14e7724d": {
          "model_module": "@jupyter-widgets/base",
          "model_name": "LayoutModel",
          "model_module_version": "1.2.0",
          "state": {
            "_model_module": "@jupyter-widgets/base",
            "_model_module_version": "1.2.0",
            "_model_name": "LayoutModel",
            "_view_count": null,
            "_view_module": "@jupyter-widgets/base",
            "_view_module_version": "1.2.0",
            "_view_name": "LayoutView",
            "align_content": null,
            "align_items": null,
            "align_self": null,
            "border": null,
            "bottom": null,
            "display": null,
            "flex": null,
            "flex_flow": null,
            "grid_area": null,
            "grid_auto_columns": null,
            "grid_auto_flow": null,
            "grid_auto_rows": null,
            "grid_column": null,
            "grid_gap": null,
            "grid_row": null,
            "grid_template_areas": null,
            "grid_template_columns": null,
            "grid_template_rows": null,
            "height": null,
            "justify_content": null,
            "justify_items": null,
            "left": null,
            "margin": null,
            "max_height": null,
            "max_width": null,
            "min_height": null,
            "min_width": null,
            "object_fit": null,
            "object_position": null,
            "order": null,
            "overflow": null,
            "overflow_x": null,
            "overflow_y": null,
            "padding": null,
            "right": null,
            "top": null,
            "visibility": null,
            "width": null
          }
        },
        "6ec326e213d04dd1b2c4ee2fbdffe1d7": {
          "model_module": "@jupyter-widgets/controls",
          "model_name": "DescriptionStyleModel",
          "model_module_version": "1.5.0",
          "state": {
            "_model_module": "@jupyter-widgets/controls",
            "_model_module_version": "1.5.0",
            "_model_name": "DescriptionStyleModel",
            "_view_count": null,
            "_view_module": "@jupyter-widgets/base",
            "_view_module_version": "1.2.0",
            "_view_name": "StyleView",
            "description_width": ""
          }
        }
      }
    }
  },
  "cells": [
    {
      "cell_type": "markdown",
      "metadata": {
        "id": "view-in-github",
        "colab_type": "text"
      },
      "source": [
        "<a href=\"https://colab.research.google.com/github/cindyhps/analisa_sent_3label/blob/main/analytic_sent.ipynb\" target=\"_parent\"><img src=\"https://colab.research.google.com/assets/colab-badge.svg\" alt=\"Open In Colab\"/></a>"
      ]
    },
    {
      "cell_type": "markdown",
      "source": [
        "Library"
      ],
      "metadata": {
        "id": "qXsUb-bZVQN5"
      }
    },
    {
      "cell_type": "code",
      "source": [
        "!pip install gcsfs==2024.9.0"
      ],
      "metadata": {
        "colab": {
          "base_uri": "https://localhost:8080/"
        },
        "id": "qERua5A_eqZF",
        "outputId": "be61678a-f77c-4e79-c10e-1b9333458579"
      },
      "execution_count": 134,
      "outputs": [
        {
          "output_type": "stream",
          "name": "stdout",
          "text": [
            "Requirement already satisfied: gcsfs==2024.9.0 in /usr/local/lib/python3.11/dist-packages (2024.9.0)\n",
            "Requirement already satisfied: aiohttp!=4.0.0a0,!=4.0.0a1 in /usr/local/lib/python3.11/dist-packages (from gcsfs==2024.9.0) (3.11.11)\n",
            "Requirement already satisfied: decorator>4.1.2 in /usr/local/lib/python3.11/dist-packages (from gcsfs==2024.9.0) (4.4.2)\n",
            "Collecting fsspec==2024.6.1 (from gcsfs==2024.9.0)\n",
            "  Using cached fsspec-2024.6.1-py3-none-any.whl.metadata (11 kB)\n",
            "Requirement already satisfied: google-auth>=1.2 in /usr/local/lib/python3.11/dist-packages (from gcsfs==2024.9.0) (2.27.0)\n",
            "Requirement already satisfied: google-auth-oauthlib in /usr/local/lib/python3.11/dist-packages (from gcsfs==2024.9.0) (1.2.1)\n",
            "Requirement already satisfied: google-cloud-storage in /usr/local/lib/python3.11/dist-packages (from gcsfs==2024.9.0) (2.19.0)\n",
            "Requirement already satisfied: requests in /usr/local/lib/python3.11/dist-packages (from gcsfs==2024.9.0) (2.32.3)\n",
            "Requirement already satisfied: aiohappyeyeballs>=2.3.0 in /usr/local/lib/python3.11/dist-packages (from aiohttp!=4.0.0a0,!=4.0.0a1->gcsfs==2024.9.0) (2.4.4)\n",
            "Requirement already satisfied: aiosignal>=1.1.2 in /usr/local/lib/python3.11/dist-packages (from aiohttp!=4.0.0a0,!=4.0.0a1->gcsfs==2024.9.0) (1.3.2)\n",
            "Requirement already satisfied: attrs>=17.3.0 in /usr/local/lib/python3.11/dist-packages (from aiohttp!=4.0.0a0,!=4.0.0a1->gcsfs==2024.9.0) (24.3.0)\n",
            "Requirement already satisfied: frozenlist>=1.1.1 in /usr/local/lib/python3.11/dist-packages (from aiohttp!=4.0.0a0,!=4.0.0a1->gcsfs==2024.9.0) (1.5.0)\n",
            "Requirement already satisfied: multidict<7.0,>=4.5 in /usr/local/lib/python3.11/dist-packages (from aiohttp!=4.0.0a0,!=4.0.0a1->gcsfs==2024.9.0) (6.1.0)\n",
            "Requirement already satisfied: propcache>=0.2.0 in /usr/local/lib/python3.11/dist-packages (from aiohttp!=4.0.0a0,!=4.0.0a1->gcsfs==2024.9.0) (0.2.1)\n",
            "Requirement already satisfied: yarl<2.0,>=1.17.0 in /usr/local/lib/python3.11/dist-packages (from aiohttp!=4.0.0a0,!=4.0.0a1->gcsfs==2024.9.0) (1.18.3)\n",
            "Requirement already satisfied: cachetools<6.0,>=2.0.0 in /usr/local/lib/python3.11/dist-packages (from google-auth>=1.2->gcsfs==2024.9.0) (5.5.0)\n",
            "Requirement already satisfied: pyasn1-modules>=0.2.1 in /usr/local/lib/python3.11/dist-packages (from google-auth>=1.2->gcsfs==2024.9.0) (0.4.1)\n",
            "Requirement already satisfied: rsa<5,>=3.1.4 in /usr/local/lib/python3.11/dist-packages (from google-auth>=1.2->gcsfs==2024.9.0) (4.9)\n",
            "Requirement already satisfied: requests-oauthlib>=0.7.0 in /usr/local/lib/python3.11/dist-packages (from google-auth-oauthlib->gcsfs==2024.9.0) (1.3.1)\n",
            "Requirement already satisfied: google-api-core<3.0.0dev,>=2.15.0 in /usr/local/lib/python3.11/dist-packages (from google-cloud-storage->gcsfs==2024.9.0) (2.19.2)\n",
            "Requirement already satisfied: google-cloud-core<3.0dev,>=2.3.0 in /usr/local/lib/python3.11/dist-packages (from google-cloud-storage->gcsfs==2024.9.0) (2.4.1)\n",
            "Requirement already satisfied: google-resumable-media>=2.7.2 in /usr/local/lib/python3.11/dist-packages (from google-cloud-storage->gcsfs==2024.9.0) (2.7.2)\n",
            "Requirement already satisfied: google-crc32c<2.0dev,>=1.0 in /usr/local/lib/python3.11/dist-packages (from google-cloud-storage->gcsfs==2024.9.0) (1.6.0)\n",
            "Requirement already satisfied: charset-normalizer<4,>=2 in /usr/local/lib/python3.11/dist-packages (from requests->gcsfs==2024.9.0) (3.4.1)\n",
            "Requirement already satisfied: idna<4,>=2.5 in /usr/local/lib/python3.11/dist-packages (from requests->gcsfs==2024.9.0) (3.10)\n",
            "Requirement already satisfied: urllib3<3,>=1.21.1 in /usr/local/lib/python3.11/dist-packages (from requests->gcsfs==2024.9.0) (2.3.0)\n",
            "Requirement already satisfied: certifi>=2017.4.17 in /usr/local/lib/python3.11/dist-packages (from requests->gcsfs==2024.9.0) (2024.12.14)\n",
            "Requirement already satisfied: googleapis-common-protos<2.0.dev0,>=1.56.2 in /usr/local/lib/python3.11/dist-packages (from google-api-core<3.0.0dev,>=2.15.0->google-cloud-storage->gcsfs==2024.9.0) (1.66.0)\n",
            "Requirement already satisfied: protobuf!=3.20.0,!=3.20.1,!=4.21.0,!=4.21.1,!=4.21.2,!=4.21.3,!=4.21.4,!=4.21.5,<6.0.0.dev0,>=3.19.5 in /usr/local/lib/python3.11/dist-packages (from google-api-core<3.0.0dev,>=2.15.0->google-cloud-storage->gcsfs==2024.9.0) (4.25.5)\n",
            "Requirement already satisfied: proto-plus<2.0.0dev,>=1.22.3 in /usr/local/lib/python3.11/dist-packages (from google-api-core<3.0.0dev,>=2.15.0->google-cloud-storage->gcsfs==2024.9.0) (1.25.0)\n",
            "Requirement already satisfied: pyasn1<0.7.0,>=0.4.6 in /usr/local/lib/python3.11/dist-packages (from pyasn1-modules>=0.2.1->google-auth>=1.2->gcsfs==2024.9.0) (0.6.1)\n",
            "Requirement already satisfied: oauthlib>=3.0.0 in /usr/local/lib/python3.11/dist-packages (from requests-oauthlib>=0.7.0->google-auth-oauthlib->gcsfs==2024.9.0) (3.2.2)\n",
            "Using cached fsspec-2024.6.1-py3-none-any.whl (177 kB)\n",
            "Installing collected packages: fsspec\n",
            "  Attempting uninstall: fsspec\n",
            "    Found existing installation: fsspec 2024.9.0\n",
            "    Uninstalling fsspec-2024.9.0:\n",
            "      Successfully uninstalled fsspec-2024.9.0\n",
            "Successfully installed fsspec-2024.6.1\n"
          ]
        }
      ]
    },
    {
      "cell_type": "code",
      "source": [
        "!pip install fsspec==2024.9.0"
      ],
      "metadata": {
        "colab": {
          "base_uri": "https://localhost:8080/"
        },
        "id": "6DDFlxlpe81I",
        "outputId": "d5629191-273a-42db-fc0b-9a87f37d00bd"
      },
      "execution_count": 135,
      "outputs": [
        {
          "output_type": "stream",
          "name": "stdout",
          "text": [
            "Collecting fsspec==2024.9.0\n",
            "  Using cached fsspec-2024.9.0-py3-none-any.whl.metadata (11 kB)\n",
            "Using cached fsspec-2024.9.0-py3-none-any.whl (179 kB)\n",
            "Installing collected packages: fsspec\n",
            "  Attempting uninstall: fsspec\n",
            "    Found existing installation: fsspec 2024.6.1\n",
            "    Uninstalling fsspec-2024.6.1:\n",
            "      Successfully uninstalled fsspec-2024.6.1\n",
            "\u001b[31mERROR: pip's dependency resolver does not currently take into account all the packages that are installed. This behaviour is the source of the following dependency conflicts.\n",
            "gcsfs 2024.9.0 requires fsspec==2024.6.1, but you have fsspec 2024.9.0 which is incompatible.\u001b[0m\u001b[31m\n",
            "\u001b[0mSuccessfully installed fsspec-2024.9.0\n"
          ]
        }
      ]
    },
    {
      "cell_type": "code",
      "source": [
        "!pip install transformers datasets emoji -q --use-deprecated=legacy-resolver"
      ],
      "metadata": {
        "id": "ZDPa595vbc8X"
      },
      "execution_count": 136,
      "outputs": []
    },
    {
      "cell_type": "code",
      "source": [
        "!pip install wordcloud matplotlib nltk"
      ],
      "metadata": {
        "colab": {
          "base_uri": "https://localhost:8080/"
        },
        "id": "YO2M-BEw5eJ6",
        "outputId": "149fb4e4-f5c1-4b9e-d770-62ba2e3f1980"
      },
      "execution_count": 137,
      "outputs": [
        {
          "output_type": "stream",
          "name": "stdout",
          "text": [
            "Requirement already satisfied: wordcloud in /usr/local/lib/python3.11/dist-packages (1.9.4)\n",
            "Requirement already satisfied: matplotlib in /usr/local/lib/python3.11/dist-packages (3.10.0)\n",
            "Requirement already satisfied: nltk in /usr/local/lib/python3.11/dist-packages (3.9.1)\n",
            "Requirement already satisfied: numpy>=1.6.1 in /usr/local/lib/python3.11/dist-packages (from wordcloud) (1.26.4)\n",
            "Requirement already satisfied: pillow in /usr/local/lib/python3.11/dist-packages (from wordcloud) (11.1.0)\n",
            "Requirement already satisfied: contourpy>=1.0.1 in /usr/local/lib/python3.11/dist-packages (from matplotlib) (1.3.1)\n",
            "Requirement already satisfied: cycler>=0.10 in /usr/local/lib/python3.11/dist-packages (from matplotlib) (0.12.1)\n",
            "Requirement already satisfied: fonttools>=4.22.0 in /usr/local/lib/python3.11/dist-packages (from matplotlib) (4.55.3)\n",
            "Requirement already satisfied: kiwisolver>=1.3.1 in /usr/local/lib/python3.11/dist-packages (from matplotlib) (1.4.8)\n",
            "Requirement already satisfied: packaging>=20.0 in /usr/local/lib/python3.11/dist-packages (from matplotlib) (24.2)\n",
            "Requirement already satisfied: pyparsing>=2.3.1 in /usr/local/lib/python3.11/dist-packages (from matplotlib) (3.2.1)\n",
            "Requirement already satisfied: python-dateutil>=2.7 in /usr/local/lib/python3.11/dist-packages (from matplotlib) (2.8.2)\n",
            "Requirement already satisfied: click in /usr/local/lib/python3.11/dist-packages (from nltk) (8.1.8)\n",
            "Requirement already satisfied: joblib in /usr/local/lib/python3.11/dist-packages (from nltk) (1.4.2)\n",
            "Requirement already satisfied: regex>=2021.8.3 in /usr/local/lib/python3.11/dist-packages (from nltk) (2024.11.6)\n",
            "Requirement already satisfied: tqdm in /usr/local/lib/python3.11/dist-packages (from nltk) (4.67.1)\n",
            "Requirement already satisfied: six>=1.5 in /usr/local/lib/python3.11/dist-packages (from python-dateutil>=2.7->matplotlib) (1.17.0)\n"
          ]
        }
      ]
    },
    {
      "cell_type": "code",
      "execution_count": 138,
      "metadata": {
        "id": "YQWd1JKIVGIV",
        "colab": {
          "base_uri": "https://localhost:8080/"
        },
        "outputId": "1737b32a-79af-47e3-fcf2-70d166723215"
      },
      "outputs": [
        {
          "output_type": "stream",
          "name": "stderr",
          "text": [
            "[nltk_data] Downloading package stopwords to /root/nltk_data...\n",
            "[nltk_data]   Unzipping corpora/stopwords.zip.\n"
          ]
        }
      ],
      "source": [
        "import os\n",
        "import re\n",
        "import nltk\n",
        "nltk.download('stopwords')\n",
        "from nltk.corpus import stopwords\n",
        "import emoji\n",
        "import torch\n",
        "import zipfile\n",
        "import numpy as np\n",
        "import pandas as pd\n",
        "import seaborn as sns\n",
        "from datasets import Dataset\n",
        "import matplotlib.pyplot as plt\n",
        "from wordcloud import WordCloud, STOPWORDS\n",
        "from transformers import DataCollatorWithPadding\n",
        "from sklearn.metrics import accuracy_score, f1_score, precision_score, classification_report, confusion_matrix\n",
        "from sklearn.model_selection import train_test_split, cross_val_score\n",
        "from sklearn.linear_model import LogisticRegression\n",
        "from transformers import BertTokenizer, BertForSequenceClassification, Trainer, TrainingArguments"
      ]
    },
    {
      "cell_type": "code",
      "source": [
        "device = torch.device(\"cuda\" if torch.cuda.is_available() else \"cpu\")\n",
        "print(f\"Using device: {device}\")"
      ],
      "metadata": {
        "colab": {
          "base_uri": "https://localhost:8080/"
        },
        "id": "W1JSCAlVbveG",
        "outputId": "9330b8db-d69c-4343-bcf0-314869dd40fe"
      },
      "execution_count": 139,
      "outputs": [
        {
          "output_type": "stream",
          "name": "stdout",
          "text": [
            "Using device: cuda\n"
          ]
        }
      ]
    },
    {
      "cell_type": "markdown",
      "source": [
        "Dataset"
      ],
      "metadata": {
        "id": "kYxE0bqUVRuo"
      }
    },
    {
      "cell_type": "code",
      "source": [
        "!wget -q https://storage.googleapis.com/babak-dataset/indonlu/smsa_doc-sentiment-prosa/train_preprocess.tsv\n",
        "!wget -q https://storage.googleapis.com/babak-dataset/indonlu/smsa_doc-sentiment-prosa/valid_preprocess.tsv"
      ],
      "metadata": {
        "id": "UuJNBB9cbzlV"
      },
      "execution_count": 140,
      "outputs": []
    },
    {
      "cell_type": "code",
      "source": [
        "from google.colab import drive\n",
        "from google.colab import files\n",
        "drive.mount('/content/drive')"
      ],
      "metadata": {
        "colab": {
          "base_uri": "https://localhost:8080/"
        },
        "id": "b8vNqUA2VW5h",
        "outputId": "719b1e4f-4c4d-46dd-d099-777dd47a10ce"
      },
      "execution_count": 141,
      "outputs": [
        {
          "output_type": "stream",
          "name": "stdout",
          "text": [
            "Drive already mounted at /content/drive; to attempt to forcibly remount, call drive.mount(\"/content/drive\", force_remount=True).\n"
          ]
        }
      ]
    },
    {
      "cell_type": "code",
      "source": [
        "#unzip data\n",
        "zip_path = '/content/drive/My Drive/indonlu/indonlu-master.zip'\n",
        "extract_to = '/content/drive/My Drive/indonlu'\n",
        "\n",
        "with zipfile.ZipFile(zip_path, 'r') as zip_ref:\n",
        "    zip_ref.extractall(extract_to)\n",
        "\n",
        "extracted_files = os.listdir(extract_to)\n",
        "print(\"Extracted Files:\", extracted_files)"
      ],
      "metadata": {
        "colab": {
          "base_uri": "https://localhost:8080/"
        },
        "id": "Rn4qV2iIVpSc",
        "outputId": "83b4337b-1d45-4a5a-ecde-01c5587e5396"
      },
      "execution_count": 142,
      "outputs": [
        {
          "output_type": "stream",
          "name": "stdout",
          "text": [
            "Extracted Files: ['indonlu-master.zip', 'indonlu-master', 'trained_model']\n"
          ]
        }
      ]
    },
    {
      "cell_type": "code",
      "source": [
        "base_path = \"/content/drive/My Drive/indonlu/indonlu-master/\"\n",
        "for root, dirs, files in os.walk(base_path):\n",
        "    print(f\"Folder: {root}\")\n",
        "    for file in files:\n",
        "        print(f\"File: {file}\")"
      ],
      "metadata": {
        "colab": {
          "base_uri": "https://localhost:8080/"
        },
        "id": "fdHE5Vnqg0zH",
        "outputId": "f357b791-8b1d-4eaf-d098-f85997ca9120"
      },
      "execution_count": 143,
      "outputs": [
        {
          "output_type": "stream",
          "name": "stdout",
          "text": [
            "Folder: /content/drive/My Drive/indonlu/indonlu-master/\n",
            "File: README.id.md\n",
            "File: .gitignore\n",
            "File: CONTRIBUTING.md\n",
            "File: LICENSE\n",
            "File: CODE_OF_CONDUCT.md\n",
            "File: README.md\n",
            "File: main.py\n",
            "File: predict.py\n",
            "File: predict.sh\n",
            "File: requirements.txt\n",
            "File: run_all_tasks.sh\n",
            "File: run_single_task.sh\n",
            "Folder: /content/drive/My Drive/indonlu/indonlu-master/.github\n",
            "File: ISSUE_TEMPLATE.md\n",
            "File: PULL_REQUEST_TEMPLATE.md\n",
            "Folder: /content/drive/My Drive/indonlu/indonlu-master/data_utils_notebook\n",
            "File: aspect_based_sentiment_analysis.ipynb\n",
            "File: ner_data_utils.ipynb\n",
            "File: aspect_extraction_data_util.ipynb\n",
            "File: postag_data_utils.ipynb\n",
            "Folder: /content/drive/My Drive/indonlu/indonlu-master/dataset\n",
            "Folder: /content/drive/My Drive/indonlu/indonlu-master/dataset/bapos_pos-idn\n",
            "File: test_preprocess.txt\n",
            "File: test_preprocess_masked_label.txt\n",
            "File: train_preprocess.txt\n",
            "File: valid_preprocess.txt\n",
            "File: vocab.txt\n",
            "File: vocab_uncased.txt\n",
            "Folder: /content/drive/My Drive/indonlu/indonlu-master/dataset/casa_absa-prosa\n",
            "File: test_preprocess.csv\n",
            "File: test_preprocess_masked_label.csv\n",
            "File: train_preprocess.csv\n",
            "File: vocab.txt\n",
            "File: valid_preprocess.csv\n",
            "File: vocab_uncased.txt\n",
            "Folder: /content/drive/My Drive/indonlu/indonlu-master/dataset/emot_emotion-twitter\n",
            "File: test_preprocess_masked_label.csv\n",
            "File: test_preprocess.csv\n",
            "File: valid_preprocess.csv\n",
            "File: train_preprocess.csv\n",
            "File: vocab_uncased.txt\n",
            "File: vocab.txt\n",
            "Folder: /content/drive/My Drive/indonlu/indonlu-master/dataset/facqa_qa-factoid-itb\n",
            "File: test_preprocess.csv\n",
            "File: test_preprocess_masked_label.csv\n",
            "File: train_preprocess.csv\n",
            "File: valid_preprocess.csv\n",
            "File: vocab_uncased.txt\n",
            "File: vocab.txt\n",
            "Folder: /content/drive/My Drive/indonlu/indonlu-master/dataset/hoasa_absa-airy\n",
            "File: test_preprocess.csv\n",
            "File: test_preprocess_masked_label.csv\n",
            "File: train_preprocess.csv\n",
            "File: valid_preprocess.csv\n",
            "File: vocab_uncased.txt\n",
            "File: vocab.txt\n",
            "Folder: /content/drive/My Drive/indonlu/indonlu-master/dataset/keps_keyword-extraction-prosa\n",
            "File: test_preprocess.txt\n",
            "File: test_preprocess_masked_label.txt\n",
            "File: train_preprocess.txt\n",
            "File: valid_preprocess.txt\n",
            "File: vocab.txt\n",
            "File: vocab_uncased.txt\n",
            "Folder: /content/drive/My Drive/indonlu/indonlu-master/dataset/nergrit_ner-grit\n",
            "File: test_preprocess.txt\n",
            "File: train_preprocess.txt\n",
            "File: test_preprocess_masked_label.txt\n",
            "File: vocab.txt\n",
            "File: valid_preprocess.txt\n",
            "File: vocab_uncased.txt\n",
            "Folder: /content/drive/My Drive/indonlu/indonlu-master/dataset/nerp_ner-prosa\n",
            "File: train_preprocess.txt\n",
            "File: test_preprocess_masked_label.txt\n",
            "File: test_preprocess.txt\n",
            "File: vocab.txt\n",
            "File: valid_preprocess.txt\n",
            "File: vocab_uncased.txt\n",
            "Folder: /content/drive/My Drive/indonlu/indonlu-master/dataset/posp_pos-prosa\n",
            "File: train_preprocess.txt\n",
            "File: test_preprocess_masked_label.txt\n",
            "File: test_preprocess.txt\n",
            "File: valid_preprocess.txt\n",
            "File: vocab_uncased.txt\n",
            "File: vocab.txt\n",
            "Folder: /content/drive/My Drive/indonlu/indonlu-master/dataset/smsa_doc-sentiment-prosa\n",
            "File: test_preprocess.tsv\n",
            "File: test_preprocess_masked_label.tsv\n",
            "File: valid_preprocess.tsv\n",
            "File: vocab.txt\n",
            "File: vocab_uncased.txt\n",
            "File: train_preprocess.tsv\n",
            "Folder: /content/drive/My Drive/indonlu/indonlu-master/dataset/terma_term-extraction-airy\n",
            "File: test_preprocess_masked_label.txt\n",
            "File: test_preprocess.txt\n",
            "File: valid_preprocess.txt\n",
            "File: train_preprocess.txt\n",
            "File: vocab_uncased.txt\n",
            "File: vocab.txt\n",
            "Folder: /content/drive/My Drive/indonlu/indonlu-master/dataset/wrete_entailment-ui\n",
            "File: test_preprocess.csv\n",
            "File: test_preprocess_masked_label.csv\n",
            "File: train_preprocess.csv\n",
            "File: valid_preprocess.csv\n",
            "File: vocab.txt\n",
            "File: vocab_uncased.txt\n",
            "Folder: /content/drive/My Drive/indonlu/indonlu-master/examples\n",
            "File: finetune_casa.ipynb\n",
            "File: finetune_emot.ipynb\n",
            "File: finetune_fasttext_casa.ipynb\n",
            "File: finetune_smsa.ipynb\n",
            "File: finetune_ner_grit.ipynb\n",
            "File: finetune_wrete.ipynb\n",
            "File: requirements.txt\n",
            "Folder: /content/drive/My Drive/indonlu/indonlu-master/modules\n",
            "File: multi_label_classification.py\n",
            "File: word_classification.py\n",
            "Folder: /content/drive/My Drive/indonlu/indonlu-master/submission_examples\n",
            "File: absa-prosa_test.csv\n",
            "File: emotion-twitter_test.csv\n",
            "File: doc-sentiment_test.csv\n",
            "File: entailment-ui_test.csv\n",
            "File: absa-airy_test.csv\n",
            "File: keyword-extraction-prosa_test.csv\n",
            "File: ner-grit_test.csv\n",
            "File: ner-prosa_test.csv\n",
            "File: pos-idn_test.csv\n",
            "File: pos-prosa_test.csv\n",
            "File: qa-factoid-itb_test.csv\n",
            "File: term-extraction-airy_test.csv\n",
            "Folder: /content/drive/My Drive/indonlu/indonlu-master/tutorial\n",
            "File: backprop.png\n",
            "File: bag_of_word.png\n",
            "File: bert_pretraining.png\n",
            "File: chain_rule.png\n",
            "File: cnn.png\n",
            "File: fasttext.png\n",
            "File: indonlu_result.png\n",
            "File: finetune_smsa_tutorial.ipynb\n",
            "File: gradient_descent.png\n",
            "File: logistic_regression.png\n",
            "File: rnn.png\n",
            "File: mlp.png\n",
            "File: tf_idf.png\n",
            "File: transformer.png\n",
            "File: why_transformer.png\n",
            "File: word_vector.png\n",
            "Folder: /content/drive/My Drive/indonlu/indonlu-master/utils\n",
            "File: args_helper.py\n",
            "File: conlleval.py\n",
            "File: forward_fn.py\n",
            "File: data_utils.py\n",
            "File: functions.py\n",
            "File: metrics.py\n"
          ]
        }
      ]
    },
    {
      "cell_type": "code",
      "source": [
        "from google.colab import files\n",
        "# Upload file\n",
        "uploaded = files.upload()"
      ],
      "metadata": {
        "colab": {
          "base_uri": "https://localhost:8080/",
          "height": 252
        },
        "id": "bgAIdCCGhA4Z",
        "outputId": "8651e3fb-323a-4ddb-e847-bb5f1bc0c0e3"
      },
      "execution_count": 144,
      "outputs": [
        {
          "output_type": "display_data",
          "data": {
            "text/plain": [
              "<IPython.core.display.HTML object>"
            ],
            "text/html": [
              "\n",
              "     <input type=\"file\" id=\"files-6c35f474-a1ae-4f75-b385-59b843325a64\" name=\"files[]\" multiple disabled\n",
              "        style=\"border:none\" />\n",
              "     <output id=\"result-6c35f474-a1ae-4f75-b385-59b843325a64\">\n",
              "      Upload widget is only available when the cell has been executed in the\n",
              "      current browser session. Please rerun this cell to enable.\n",
              "      </output>\n",
              "      <script>// Copyright 2017 Google LLC\n",
              "//\n",
              "// Licensed under the Apache License, Version 2.0 (the \"License\");\n",
              "// you may not use this file except in compliance with the License.\n",
              "// You may obtain a copy of the License at\n",
              "//\n",
              "//      http://www.apache.org/licenses/LICENSE-2.0\n",
              "//\n",
              "// Unless required by applicable law or agreed to in writing, software\n",
              "// distributed under the License is distributed on an \"AS IS\" BASIS,\n",
              "// WITHOUT WARRANTIES OR CONDITIONS OF ANY KIND, either express or implied.\n",
              "// See the License for the specific language governing permissions and\n",
              "// limitations under the License.\n",
              "\n",
              "/**\n",
              " * @fileoverview Helpers for google.colab Python module.\n",
              " */\n",
              "(function(scope) {\n",
              "function span(text, styleAttributes = {}) {\n",
              "  const element = document.createElement('span');\n",
              "  element.textContent = text;\n",
              "  for (const key of Object.keys(styleAttributes)) {\n",
              "    element.style[key] = styleAttributes[key];\n",
              "  }\n",
              "  return element;\n",
              "}\n",
              "\n",
              "// Max number of bytes which will be uploaded at a time.\n",
              "const MAX_PAYLOAD_SIZE = 100 * 1024;\n",
              "\n",
              "function _uploadFiles(inputId, outputId) {\n",
              "  const steps = uploadFilesStep(inputId, outputId);\n",
              "  const outputElement = document.getElementById(outputId);\n",
              "  // Cache steps on the outputElement to make it available for the next call\n",
              "  // to uploadFilesContinue from Python.\n",
              "  outputElement.steps = steps;\n",
              "\n",
              "  return _uploadFilesContinue(outputId);\n",
              "}\n",
              "\n",
              "// This is roughly an async generator (not supported in the browser yet),\n",
              "// where there are multiple asynchronous steps and the Python side is going\n",
              "// to poll for completion of each step.\n",
              "// This uses a Promise to block the python side on completion of each step,\n",
              "// then passes the result of the previous step as the input to the next step.\n",
              "function _uploadFilesContinue(outputId) {\n",
              "  const outputElement = document.getElementById(outputId);\n",
              "  const steps = outputElement.steps;\n",
              "\n",
              "  const next = steps.next(outputElement.lastPromiseValue);\n",
              "  return Promise.resolve(next.value.promise).then((value) => {\n",
              "    // Cache the last promise value to make it available to the next\n",
              "    // step of the generator.\n",
              "    outputElement.lastPromiseValue = value;\n",
              "    return next.value.response;\n",
              "  });\n",
              "}\n",
              "\n",
              "/**\n",
              " * Generator function which is called between each async step of the upload\n",
              " * process.\n",
              " * @param {string} inputId Element ID of the input file picker element.\n",
              " * @param {string} outputId Element ID of the output display.\n",
              " * @return {!Iterable<!Object>} Iterable of next steps.\n",
              " */\n",
              "function* uploadFilesStep(inputId, outputId) {\n",
              "  const inputElement = document.getElementById(inputId);\n",
              "  inputElement.disabled = false;\n",
              "\n",
              "  const outputElement = document.getElementById(outputId);\n",
              "  outputElement.innerHTML = '';\n",
              "\n",
              "  const pickedPromise = new Promise((resolve) => {\n",
              "    inputElement.addEventListener('change', (e) => {\n",
              "      resolve(e.target.files);\n",
              "    });\n",
              "  });\n",
              "\n",
              "  const cancel = document.createElement('button');\n",
              "  inputElement.parentElement.appendChild(cancel);\n",
              "  cancel.textContent = 'Cancel upload';\n",
              "  const cancelPromise = new Promise((resolve) => {\n",
              "    cancel.onclick = () => {\n",
              "      resolve(null);\n",
              "    };\n",
              "  });\n",
              "\n",
              "  // Wait for the user to pick the files.\n",
              "  const files = yield {\n",
              "    promise: Promise.race([pickedPromise, cancelPromise]),\n",
              "    response: {\n",
              "      action: 'starting',\n",
              "    }\n",
              "  };\n",
              "\n",
              "  cancel.remove();\n",
              "\n",
              "  // Disable the input element since further picks are not allowed.\n",
              "  inputElement.disabled = true;\n",
              "\n",
              "  if (!files) {\n",
              "    return {\n",
              "      response: {\n",
              "        action: 'complete',\n",
              "      }\n",
              "    };\n",
              "  }\n",
              "\n",
              "  for (const file of files) {\n",
              "    const li = document.createElement('li');\n",
              "    li.append(span(file.name, {fontWeight: 'bold'}));\n",
              "    li.append(span(\n",
              "        `(${file.type || 'n/a'}) - ${file.size} bytes, ` +\n",
              "        `last modified: ${\n",
              "            file.lastModifiedDate ? file.lastModifiedDate.toLocaleDateString() :\n",
              "                                    'n/a'} - `));\n",
              "    const percent = span('0% done');\n",
              "    li.appendChild(percent);\n",
              "\n",
              "    outputElement.appendChild(li);\n",
              "\n",
              "    const fileDataPromise = new Promise((resolve) => {\n",
              "      const reader = new FileReader();\n",
              "      reader.onload = (e) => {\n",
              "        resolve(e.target.result);\n",
              "      };\n",
              "      reader.readAsArrayBuffer(file);\n",
              "    });\n",
              "    // Wait for the data to be ready.\n",
              "    let fileData = yield {\n",
              "      promise: fileDataPromise,\n",
              "      response: {\n",
              "        action: 'continue',\n",
              "      }\n",
              "    };\n",
              "\n",
              "    // Use a chunked sending to avoid message size limits. See b/62115660.\n",
              "    let position = 0;\n",
              "    do {\n",
              "      const length = Math.min(fileData.byteLength - position, MAX_PAYLOAD_SIZE);\n",
              "      const chunk = new Uint8Array(fileData, position, length);\n",
              "      position += length;\n",
              "\n",
              "      const base64 = btoa(String.fromCharCode.apply(null, chunk));\n",
              "      yield {\n",
              "        response: {\n",
              "          action: 'append',\n",
              "          file: file.name,\n",
              "          data: base64,\n",
              "        },\n",
              "      };\n",
              "\n",
              "      let percentDone = fileData.byteLength === 0 ?\n",
              "          100 :\n",
              "          Math.round((position / fileData.byteLength) * 100);\n",
              "      percent.textContent = `${percentDone}% done`;\n",
              "\n",
              "    } while (position < fileData.byteLength);\n",
              "  }\n",
              "\n",
              "  // All done.\n",
              "  yield {\n",
              "    response: {\n",
              "      action: 'complete',\n",
              "    }\n",
              "  };\n",
              "}\n",
              "\n",
              "scope.google = scope.google || {};\n",
              "scope.google.colab = scope.google.colab || {};\n",
              "scope.google.colab._files = {\n",
              "  _uploadFiles,\n",
              "  _uploadFilesContinue,\n",
              "};\n",
              "})(self);\n",
              "</script> "
            ]
          },
          "metadata": {}
        },
        {
          "output_type": "stream",
          "name": "stdout",
          "text": [
            "Saving test_preprocess.tsv to test_preprocess (2).tsv\n",
            "Saving test_preprocess_masked_label.tsv to test_preprocess_masked_label (2).tsv\n",
            "Saving train_preprocess.tsv to train_preprocess (2).tsv\n",
            "Saving valid_preprocess.tsv to valid_preprocess (2).tsv\n",
            "Saving vocab.txt to vocab (2).txt\n",
            "Saving vocab_uncased.txt to vocab_uncased (2).txt\n"
          ]
        }
      ]
    },
    {
      "cell_type": "code",
      "source": [
        "print(\"Current working directory:\", os.getcwd())"
      ],
      "metadata": {
        "colab": {
          "base_uri": "https://localhost:8080/"
        },
        "id": "XSnRtg1hipOq",
        "outputId": "43e2f2bf-0f1b-449a-e0a3-0736a3749787"
      },
      "execution_count": 145,
      "outputs": [
        {
          "output_type": "stream",
          "name": "stdout",
          "text": [
            "Current working directory: /content\n"
          ]
        }
      ]
    },
    {
      "cell_type": "code",
      "source": [
        "print(\"Files in the current directory:\", os.listdir())"
      ],
      "metadata": {
        "colab": {
          "base_uri": "https://localhost:8080/"
        },
        "id": "bisFrVRTiw8P",
        "outputId": "e2112b00-845e-425a-b0b8-1f11181d8f1f"
      },
      "execution_count": 146,
      "outputs": [
        {
          "output_type": "stream",
          "name": "stdout",
          "text": [
            "Files in the current directory: ['.config', 'vocab_uncased.txt', 'drive', 'vocab (2).txt', 'valid_preprocess.tsv', 'train_preprocess (2).tsv', 'results', 'valid_preprocess (2).tsv', 'test_preprocess (2).tsv', 'train_preprocess (1).tsv', 'test_preprocess.tsv', 'test_preprocess (1).tsv', 'vocab (1).txt', 'test_preprocess_masked_label.tsv', 'train_preprocess.tsv', 'vocab_uncased (2).txt', 'logs', 'test_preprocess_masked_label (1).tsv', 'wandb', 'vocab_uncased (1).txt', 'test_preprocess_masked_label (2).tsv', 'vocab.txt', 'valid_preprocess (1).tsv', 'sample_data']\n"
          ]
        }
      ]
    },
    {
      "cell_type": "code",
      "source": [
        "train_df = pd.read_csv(\"/content/train_preprocess.tsv\", sep=\"\\t\", names=[\"text\", \"label\"])\n",
        "valid_df = pd.read_csv(\"/content/valid_preprocess.tsv\", sep=\"\\t\", names=[\"text\", \"label\"])"
      ],
      "metadata": {
        "id": "-jyrqwqsb2OE"
      },
      "execution_count": 147,
      "outputs": []
    },
    {
      "cell_type": "code",
      "source": [
        "label_map = {\"positive\": 0, \"neutral\": 1, \"negative\": 2}\n",
        "train_df[\"label\"] = train_df[\"label\"].map(label_map)\n",
        "valid_df[\"label\"] = valid_df[\"label\"].map(label_map)"
      ],
      "metadata": {
        "id": "PIRaLO-Eb6Di"
      },
      "execution_count": 148,
      "outputs": []
    },
    {
      "cell_type": "code",
      "source": [
        "test_df = pd.read_csv(\"test_preprocess.tsv\", sep=\"\\t\", names=[\"text\", \"label\"])\n",
        "test_df[\"label\"] = test_df[\"label\"].map(label_map)"
      ],
      "metadata": {
        "id": "PNcGM68xRUhf"
      },
      "execution_count": 149,
      "outputs": []
    },
    {
      "cell_type": "markdown",
      "source": [
        "Preprocessing Data"
      ],
      "metadata": {
        "id": "n9J67YeDVXX3"
      }
    },
    {
      "cell_type": "code",
      "source": [
        "def preprocess_text(text):\n",
        "    # Convert emoticons to text (emoji description)\n",
        "    text = emoji.demojize(text, delimiters=(\" \", \" \"))\n",
        "    # Lowercasing\n",
        "    text = text.lower()\n",
        "    return text"
      ],
      "metadata": {
        "id": "0DNx9y81cCax"
      },
      "execution_count": 150,
      "outputs": []
    },
    {
      "cell_type": "code",
      "source": [
        "train_df[\"text\"] = train_df[\"text\"].apply(preprocess_text)\n",
        "valid_df[\"text\"] = valid_df[\"text\"].apply(preprocess_text)"
      ],
      "metadata": {
        "id": "geDmvh1PcC-p"
      },
      "execution_count": 151,
      "outputs": []
    },
    {
      "cell_type": "code",
      "source": [
        "train_dataset = Dataset.from_pandas(train_df)\n",
        "valid_dataset = Dataset.from_pandas(valid_df)"
      ],
      "metadata": {
        "id": "RgkgNgCVVZVh"
      },
      "execution_count": 152,
      "outputs": []
    },
    {
      "cell_type": "code",
      "source": [
        "test_df[\"text\"] = test_df[\"text\"].apply(preprocess_text)\n",
        "test_dataset = Dataset.from_pandas(test_df)\n",
        "test_dataset = test_dataset.map(tokenize_data, batched=True)\n",
        "test_dataset = test_dataset.remove_columns([\"text\"])"
      ],
      "metadata": {
        "colab": {
          "base_uri": "https://localhost:8080/",
          "height": 49,
          "referenced_widgets": [
            "e4def3f5bcab4a51aa2a2d9a73fc3b94",
            "2a82a2d3dd424e95b0e80fe0ec2c25e2",
            "574706c426894455afe554a7e8d259bd",
            "6323f8461412484fb194fd1158d0b1b8",
            "d7ea98aceb904e7498539e0b16b0a8b9",
            "20ecc6201cc942b1b2e3b64739ca95ad",
            "571a3f724ca24ea9b025e7b79e58f776",
            "c6ac44762cb7425ea818d3955d397825",
            "bf4154f424ea4b559ca92968bb042dc9",
            "64669b2094b64b05b129b7814fe07104",
            "1d03682b5f994861a099ae8695a1347e"
          ]
        },
        "id": "lV-U5dP2RXpx",
        "outputId": "c6aa7644-0023-47d9-c762-ed01bd827ebe"
      },
      "execution_count": 153,
      "outputs": [
        {
          "output_type": "display_data",
          "data": {
            "text/plain": [
              "Map:   0%|          | 0/500 [00:00<?, ? examples/s]"
            ],
            "application/vnd.jupyter.widget-view+json": {
              "version_major": 2,
              "version_minor": 0,
              "model_id": "e4def3f5bcab4a51aa2a2d9a73fc3b94"
            }
          },
          "metadata": {}
        }
      ]
    },
    {
      "cell_type": "markdown",
      "source": [
        "Load Pretrained Model (IndoBERT)"
      ],
      "metadata": {
        "id": "MU5ohrN5VZsI"
      }
    },
    {
      "cell_type": "code",
      "source": [
        "model_name = \"indobenchmark/indobert-base-p1\"\n",
        "tokenizer = BertTokenizer.from_pretrained(model_name)\n",
        "model = BertForSequenceClassification.from_pretrained(model_name, num_labels=3)"
      ],
      "metadata": {
        "colab": {
          "base_uri": "https://localhost:8080/"
        },
        "id": "l2eatsVKcLSP",
        "outputId": "1a2936df-c957-461f-8c25-aa47d7bdd3ba"
      },
      "execution_count": 154,
      "outputs": [
        {
          "output_type": "stream",
          "name": "stderr",
          "text": [
            "Some weights of BertForSequenceClassification were not initialized from the model checkpoint at indobenchmark/indobert-base-p1 and are newly initialized: ['classifier.bias', 'classifier.weight']\n",
            "You should probably TRAIN this model on a down-stream task to be able to use it for predictions and inference.\n"
          ]
        }
      ]
    },
    {
      "cell_type": "markdown",
      "source": [
        "Tokenisasi"
      ],
      "metadata": {
        "id": "GyNI3o88cNoD"
      }
    },
    {
      "cell_type": "code",
      "source": [
        "# Tokenisasi dataset\n",
        "def tokenize_data(example):\n",
        "    return tokenizer(example[\"text\"], truncation=True, padding=\"max_length\", max_length=128)\n",
        "\n",
        "train_dataset = train_dataset.map(tokenize_data, batched=True)\n",
        "valid_dataset = valid_dataset.map(tokenize_data, batched=True)"
      ],
      "metadata": {
        "colab": {
          "base_uri": "https://localhost:8080/",
          "height": 81,
          "referenced_widgets": [
            "d6a2622fc23747a19f662c1ba4528b5b",
            "1ae1dd068dc34142b4549a412949ce6e",
            "869bef0b6c35491f9e12cb13cd3cc7bc",
            "852e5368365842a08eb62ce8550eee01",
            "c518bf6ecfc84e619b401dd2c2af8c20",
            "c3df9c98629d4934a1cea5755eddc781",
            "4272b70ecc1448dbb5e002d01a176260",
            "0467abf354fd49a68acb952a435ce6be",
            "7f8956d7a8404117b3c81feca699b432",
            "557bdef64c514fbdaa0378d30d04ae0d",
            "c3b4fcc369cd47c38d5abf17646bf6a2",
            "975074dfa46044c0b6753bc17410bbaa",
            "f79d45505a834c3d9ee949236b7c6fef",
            "15ef6c99f29c43a7a1331824d213b653",
            "e0c6444005a64f0a880bfbc62710ad5c",
            "6946bc7849854c3ca067271f69b0695a",
            "8ae09694f1da49c89f6663a073f5f540",
            "ca66eedd7c9d461bad056482e434706a",
            "efe974e13db7445098167fad55ae2a3d",
            "42df27e50d4d47b59e59fcddbbf24aa0",
            "bd1fb5bdc9e248598c8db40d14e7724d",
            "6ec326e213d04dd1b2c4ee2fbdffe1d7"
          ]
        },
        "id": "W5AIND4vcOZn",
        "outputId": "5afd947f-e7fe-465d-b8ab-fbcec3be82d9"
      },
      "execution_count": 155,
      "outputs": [
        {
          "output_type": "display_data",
          "data": {
            "text/plain": [
              "Map:   0%|          | 0/11000 [00:00<?, ? examples/s]"
            ],
            "application/vnd.jupyter.widget-view+json": {
              "version_major": 2,
              "version_minor": 0,
              "model_id": "d6a2622fc23747a19f662c1ba4528b5b"
            }
          },
          "metadata": {}
        },
        {
          "output_type": "display_data",
          "data": {
            "text/plain": [
              "Map:   0%|          | 0/1260 [00:00<?, ? examples/s]"
            ],
            "application/vnd.jupyter.widget-view+json": {
              "version_major": 2,
              "version_minor": 0,
              "model_id": "975074dfa46044c0b6753bc17410bbaa"
            }
          },
          "metadata": {}
        }
      ]
    },
    {
      "cell_type": "code",
      "source": [
        "# Hapus kolom teks yang tidak diperlukan\n",
        "train_dataset = train_dataset.remove_columns([\"text\"])\n",
        "valid_dataset = valid_dataset.remove_columns([\"text\"])"
      ],
      "metadata": {
        "id": "JCD8MxO6cQrw"
      },
      "execution_count": 156,
      "outputs": []
    },
    {
      "cell_type": "code",
      "source": [
        "# Tentukan data collator\n",
        "data_collator = DataCollatorWithPadding(tokenizer=tokenizer)"
      ],
      "metadata": {
        "id": "RrRotA-vcRM_"
      },
      "execution_count": 157,
      "outputs": []
    },
    {
      "cell_type": "markdown",
      "source": [
        "Training"
      ],
      "metadata": {
        "id": "9QCSBYJLcT6W"
      }
    },
    {
      "cell_type": "code",
      "source": [
        "training_args = TrainingArguments(\n",
        "    fp16=True,\n",
        "    output_dir=\"./results\",\n",
        "    evaluation_strategy=\"epoch\",\n",
        "    save_strategy=\"epoch\",\n",
        "    logging_dir=\"./logs\",\n",
        "    logging_steps=100,\n",
        "    learning_rate=2e-5,\n",
        "    per_device_train_batch_size=16,\n",
        "    per_device_eval_batch_size=16,\n",
        "    num_train_epochs=10,\n",
        "    weight_decay=0.01,\n",
        "    load_best_model_at_end=True,\n",
        "    metric_for_best_model=\"accuracy\",\n",
        "    save_total_limit=1\n",
        ")"
      ],
      "metadata": {
        "colab": {
          "base_uri": "https://localhost:8080/"
        },
        "id": "O0HuxZqNcSlc",
        "outputId": "5f06971b-268d-4c97-8106-81d9f017aec4"
      },
      "execution_count": 158,
      "outputs": [
        {
          "output_type": "stream",
          "name": "stderr",
          "text": [
            "/usr/local/lib/python3.11/dist-packages/transformers/training_args.py:1575: FutureWarning: `evaluation_strategy` is deprecated and will be removed in version 4.46 of 🤗 Transformers. Use `eval_strategy` instead\n",
            "  warnings.warn(\n"
          ]
        }
      ]
    },
    {
      "cell_type": "code",
      "source": [
        "def compute_metrics(eval_pred):\n",
        "    logits, labels = eval_pred\n",
        "    predictions = np.argmax(logits, axis=-1)\n",
        "    accuracy = accuracy_score(labels, predictions)\n",
        "    f1 = f1_score(labels, predictions, average=\"weighted\")\n",
        "    return {\"accuracy\": accuracy, \"f1\": f1}\n",
        "\n",
        "trainer = Trainer(\n",
        "    model=model,\n",
        "    args=training_args,\n",
        "    train_dataset=train_dataset,\n",
        "    eval_dataset=valid_dataset,\n",
        "    tokenizer=tokenizer,\n",
        "    data_collator=data_collator,\n",
        "    compute_metrics=compute_metrics\n",
        ")"
      ],
      "metadata": {
        "colab": {
          "base_uri": "https://localhost:8080/"
        },
        "id": "x2js-INOcWty",
        "outputId": "e0eec3d1-6fbf-4c23-941d-8a9ce92cbb74"
      },
      "execution_count": 159,
      "outputs": [
        {
          "output_type": "stream",
          "name": "stderr",
          "text": [
            "<ipython-input-159-2fa03b4a421a>:8: FutureWarning: `tokenizer` is deprecated and will be removed in version 5.0.0 for `Trainer.__init__`. Use `processing_class` instead.\n",
            "  trainer = Trainer(\n"
          ]
        }
      ]
    },
    {
      "cell_type": "code",
      "source": [
        "trainer.train()"
      ],
      "metadata": {
        "colab": {
          "base_uri": "https://localhost:8080/",
          "height": 107
        },
        "id": "wPnwDHzdcdGT",
        "outputId": "36c454a5-5be1-44f0-8f09-8c04f04ff72c"
      },
      "execution_count": null,
      "outputs": [
        {
          "output_type": "display_data",
          "data": {
            "text/plain": [
              "<IPython.core.display.HTML object>"
            ],
            "text/html": [
              "\n",
              "    <div>\n",
              "      \n",
              "      <progress value='1302' max='6880' style='width:300px; height:20px; vertical-align: middle;'></progress>\n",
              "      [1302/6880 03:12 < 13:45, 6.76 it/s, Epoch 1.89/10]\n",
              "    </div>\n",
              "    <table border=\"1\" class=\"dataframe\">\n",
              "  <thead>\n",
              " <tr style=\"text-align: left;\">\n",
              "      <th>Epoch</th>\n",
              "      <th>Training Loss</th>\n",
              "      <th>Validation Loss</th>\n",
              "      <th>Accuracy</th>\n",
              "      <th>F1</th>\n",
              "    </tr>\n",
              "  </thead>\n",
              "  <tbody>\n",
              "    <tr>\n",
              "      <td>1</td>\n",
              "      <td>0.222000</td>\n",
              "      <td>0.226248</td>\n",
              "      <td>0.925397</td>\n",
              "      <td>0.924287</td>\n",
              "    </tr>\n",
              "  </tbody>\n",
              "</table><p>"
            ]
          },
          "metadata": {}
        }
      ]
    },
    {
      "cell_type": "markdown",
      "source": [
        "Prediksi"
      ],
      "metadata": {
        "id": "DiHKCxuvRf5H"
      }
    },
    {
      "cell_type": "code",
      "source": [
        "predictions = trainer.predict(test_dataset)\n",
        "predicted_labels = np.argmax(predictions.predictions, axis=1)"
      ],
      "metadata": {
        "id": "bS_Xz1dbRhS2"
      },
      "execution_count": null,
      "outputs": []
    },
    {
      "cell_type": "markdown",
      "source": [
        "Evaluasi"
      ],
      "metadata": {
        "id": "dBiX8cADcgJ5"
      }
    },
    {
      "cell_type": "code",
      "source": [
        "results = trainer.evaluate()\n",
        "print(results)"
      ],
      "metadata": {
        "id": "CY1GWXk3ch8q"
      },
      "execution_count": null,
      "outputs": []
    },
    {
      "cell_type": "code",
      "source": [
        "# Evaluasi\n",
        "results = trainer.evaluate()\n",
        "print(results)\n",
        "\n",
        "# Prediksi pada data validasi\n",
        "predictions = trainer.predict(valid_dataset)\n",
        "predicted_labels = np.argmax(predictions.predictions, axis=1)\n",
        "\n",
        "# Classification report\n",
        "print(classification_report(valid_dataset[\"label\"], predicted_labels))\n",
        "\n",
        "# Confusion matrix\n",
        "cm = confusion_matrix(valid_dataset[\"label\"], predicted_labels)\n",
        "sns.heatmap(cm, annot=True, fmt=\"d\", cmap=\"Blues\")\n",
        "plt.xlabel(\"Predicted Labels\")\n",
        "plt.ylabel(\"True Labels\")\n",
        "plt.title(\"Confusion Matrix\")\n",
        "plt.show()"
      ],
      "metadata": {
        "id": "XJPgGyYEPImy"
      },
      "execution_count": null,
      "outputs": []
    },
    {
      "cell_type": "markdown",
      "source": [
        "Visualisasi"
      ],
      "metadata": {
        "id": "nyT4PqucclT2"
      }
    },
    {
      "cell_type": "code",
      "source": [
        "all_text = \" \".join(train_df[\"text\"].tolist())"
      ],
      "metadata": {
        "id": "QuOlfBkpB-nS"
      },
      "execution_count": null,
      "outputs": []
    },
    {
      "cell_type": "code",
      "source": [
        "kata_hubung = [\n",
        "    \"dan\", \"atau\", \"tetapi\", \"karena\", \"sehingga\", \"maka\", \"jika\", \"bila\", \"bahwa\",\n",
        "    \"walaupun\", \"meskipun\", \"sedangkan\", \"sambil\", \"seraya\", \"lalu\", \"kemudian\",\n",
        "    \"setelah\", \"sebelum\", \"sejak\", \"hingga\", \"sampai\", \"supaya\", \"untuk\", \"demi\",\n",
        "    \"sebab\", \"oleh karena itu\", \"padahal\", \"walau\", \"apalagi\", \"bahkan\",\n",
        "    \"baik ... maupun ...\", \"tidak hanya ... tetapi juga ...\",\n",
        "    \"bukan hanya ... melainkan juga ...\", \"agar\", \"daripada\", \"tatkala\", \"ketika\",\n",
        "    \"selagi\", \"asalkan\", \"seperti\", \"misalnya\", \"seandainya\", \"kendati\", \"tanpa\"\n",
        "]"
      ],
      "metadata": {
        "id": "U_GqYJh3hkWV"
      },
      "execution_count": null,
      "outputs": []
    },
    {
      "cell_type": "code",
      "source": [
        "kata_subjek = [\n",
        "    \"saya\", \"aku\", \"kami\", \"kita\", \"anda\", \"engkau\", \"kamu\", \"kalian\",\n",
        "    \"dia\", \"ia\", \"mereka\", \"-nya\", \"ini\", \"itu\", \"tersebut\", \"sini\", \"situ\",\n",
        "    \"sana\", \"siapa\", \"apa\", \"yang\"\n",
        "]"
      ],
      "metadata": {
        "id": "yWAZh5YiiCdw"
      },
      "execution_count": null,
      "outputs": []
    },
    {
      "cell_type": "code",
      "source": [
        "def create_wordcloud(text, title):\n",
        "  stopwords = set(STOPWORDS)\n",
        "  stopwords.update([kata_subjek, kata_hubung])\n",
        "\n",
        "  wordcloud = WordCloud(\n",
        "      width=800,\n",
        "      height=400,\n",
        "      background_color=\"white\",\n",
        "      colormap=\"viridis\",\n",
        "      max_words=200,\n",
        "      contour_color=\"steelblue\",\n",
        "      contour_width=2,\n",
        "      stopwords=stopwords  # Tambahkan stopwords\n",
        "  ).generate(all_text)"
      ],
      "metadata": {
        "id": "oyk-ooZG5mI9"
      },
      "execution_count": null,
      "outputs": []
    },
    {
      "cell_type": "code",
      "source": [
        "plt.figure(figsize=(10, 6))\n",
        "plt.imshow(wordcloud, interpolation=\"bilinear\")\n",
        "plt.axis(\"off\")\n",
        "plt.title(\"Word Cloud of Sentiment Data\", fontsize=16)\n",
        "plt.show()"
      ],
      "metadata": {
        "id": "Bsx5CNdM5n3_"
      },
      "execution_count": null,
      "outputs": []
    },
    {
      "cell_type": "code",
      "source": [
        "# Pisahkan teks berdasarkan label\n",
        "positive_text = \" \".join(train_df[train_df[\"label\"] == 0][\"text\"].tolist())\n",
        "neutral_text = \" \".join(train_df[train_df[\"label\"] == 1][\"text\"].tolist())\n",
        "negative_text = \" \".join(train_df[train_df[\"label\"] == 2][\"text\"].tolist())"
      ],
      "metadata": {
        "id": "IWjs1hUIQndv"
      },
      "execution_count": null,
      "outputs": []
    },
    {
      "cell_type": "code",
      "source": [
        "kata_hubung = [\n",
        "    \"dan\", \"atau\", \"tetapi\", \"karena\", \"sehingga\", \"maka\", \"jika\", \"bila\", \"bahwa\",\n",
        "    \"walaupun\", \"meskipun\", \"sedangkan\", \"sambil\", \"seraya\", \"lalu\", \"kemudian\",\n",
        "    \"setelah\", \"sebelum\", \"sejak\", \"hingga\", \"sampai\", \"supaya\", \"untuk\", \"demi\",\n",
        "    \"sebab\", \"oleh karena itu\", \"padahal\", \"walau\", \"apalagi\", \"bahkan\",\n",
        "    \"baik ... maupun ...\", \"tidak hanya ... tetapi juga ...\",\n",
        "    \"bukan hanya ... melainkan juga ...\", \"agar\", \"daripada\", \"tatkala\", \"ketika\",\n",
        "    \"selagi\", \"asalkan\", \"seperti\", \"misalnya\", \"seandainya\", \"kendati\", \"tanpa\"\n",
        "]"
      ],
      "metadata": {
        "id": "q00i5Zpoiioi"
      },
      "execution_count": null,
      "outputs": []
    },
    {
      "cell_type": "code",
      "source": [
        "kata_subjek = [\n",
        "    \"saya\", \"aku\", \"kami\", \"kita\", \"anda\", \"engkau\", \"kamu\", \"kalian\",\n",
        "    \"dia\", \"ia\", \"mereka\", \"-nya\", \"ini\", \"itu\", \"tersebut\", \"sini\", \"situ\",\n",
        "    \"sana\", \"siapa\", \"apa\", \"yang\"\n",
        "]"
      ],
      "metadata": {
        "id": "z7Y9uN_eii_4"
      },
      "execution_count": null,
      "outputs": []
    },
    {
      "cell_type": "code",
      "source": [
        "def create_wordcloud(text, title):\n",
        "    # Gabungkan stopwords default dan tambahan\n",
        "    stopwords_set = set(stopwords.words('indonesian'))\n",
        "    stopwords_set.update(kata_subjek)\n",
        "    stopwords_set.update(kata_hubung)\n",
        "\n",
        "    # Tentukan colormap berdasarkan judul\n",
        "    if \"Positive\" in title:\n",
        "        colormap = \"Greens\"  # Dominan hijau untuk positif\n",
        "    elif \"Negative\" in title:\n",
        "        colormap = \"Reds\"    # Dominan merah untuk negatif\n",
        "    else:\n",
        "        colormap = \"Greys\"   # Dominan abu-abu untuk netral\n",
        "\n",
        "    wordcloud = WordCloud(\n",
        "        width=800,\n",
        "        height=400,\n",
        "        background_color=\"white\",\n",
        "        colormap=colormap,\n",
        "        max_words=200,\n",
        "        contour_color=\"steelblue\",\n",
        "        contour_width=2,\n",
        "        stopwords=stopwords_set\n",
        "    ).generate(text)\n",
        "\n",
        "    plt.figure(figsize=(10, 6))\n",
        "    plt.imshow(wordcloud, interpolation=\"bilinear\")\n",
        "    plt.axis(\"off\")\n",
        "    plt.title(title, fontsize=16)\n",
        "    plt.show()\n"
      ],
      "metadata": {
        "id": "u7jzrhM6Qq_b"
      },
      "execution_count": null,
      "outputs": []
    },
    {
      "cell_type": "code",
      "source": [
        "create_wordcloud(positive_text, \"Word Cloud - Positive Sentiment\")\n",
        "create_wordcloud(neutral_text, \"Word Cloud - Neutral Sentiment\")\n",
        "create_wordcloud(negative_text, \"Word Cloud - Negative Sentiment\")"
      ],
      "metadata": {
        "id": "VSfr2cWEQuFR"
      },
      "execution_count": null,
      "outputs": []
    },
    {
      "cell_type": "markdown",
      "source": [
        "Save Model"
      ],
      "metadata": {
        "id": "983Kr9Cncj_Y"
      }
    },
    {
      "cell_type": "code",
      "source": [
        "trainer.save_model(\"/content/drive/My Drive/indonlu/trained_model\")"
      ],
      "metadata": {
        "id": "ZTGIPIS1ck6r"
      },
      "execution_count": null,
      "outputs": []
    },
    {
      "cell_type": "markdown",
      "source": [
        "Test Model"
      ],
      "metadata": {
        "id": "UFs9NTkURDtV"
      }
    },
    {
      "cell_type": "code",
      "source": [
        "# Prediksi pada data test\n",
        "predictions = trainer.predict(test_dataset) # Changed to use test_dataset\n",
        "predicted_labels = np.argmax(predictions.predictions, axis=1)"
      ],
      "metadata": {
        "id": "c3ihXoRtRLJG"
      },
      "execution_count": null,
      "outputs": []
    },
    {
      "cell_type": "code",
      "source": [
        "# Evaluasi\n",
        "accuracy = accuracy_score(test_dataset[\"label\"], predicted_labels)\n",
        "print(f\"Accuracy on test data: {accuracy * 100:.2f}%\")"
      ],
      "metadata": {
        "id": "6FJmlh0DcfbE"
      },
      "execution_count": null,
      "outputs": []
    }
  ]
}