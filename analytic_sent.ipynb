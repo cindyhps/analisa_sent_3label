{
  "nbformat": 4,
  "nbformat_minor": 0,
  "metadata": {
    "colab": {
      "provenance": [],
      "authorship_tag": "ABX9TyMK4MQAcG2PweNK4a9x+bTj",
      "include_colab_link": true
    },
    "kernelspec": {
      "name": "python3",
      "display_name": "Python 3"
    },
    "language_info": {
      "name": "python"
    }
  },
  "cells": [
    {
      "cell_type": "markdown",
      "metadata": {
        "id": "view-in-github",
        "colab_type": "text"
      },
      "source": [
        "<a href=\"https://colab.research.google.com/github/cindyhps/analisa_sent_3label/blob/main/analytic_sent.ipynb\" target=\"_parent\"><img src=\"https://colab.research.google.com/assets/colab-badge.svg\" alt=\"Open In Colab\"/></a>"
      ]
    },
    {
      "cell_type": "markdown",
      "source": [
        "Library"
      ],
      "metadata": {
        "id": "qXsUb-bZVQN5"
      }
    },
    {
      "cell_type": "code",
      "source": [
        "!pip install gcsfs==2024.9.0"
      ],
      "metadata": {
        "colab": {
          "base_uri": "https://localhost:8080/"
        },
        "id": "qERua5A_eqZF",
        "outputId": "69f87ed8-53a3-4292-dbed-b67a0c187538"
      },
      "execution_count": null,
      "outputs": [
        {
          "output_type": "stream",
          "name": "stdout",
          "text": [
            "Collecting gcsfs==2024.9.0\n",
            "  Downloading gcsfs-2024.9.0-py2.py3-none-any.whl.metadata (1.6 kB)\n",
            "Requirement already satisfied: aiohttp!=4.0.0a0,!=4.0.0a1 in /usr/local/lib/python3.11/dist-packages (from gcsfs==2024.9.0) (3.11.11)\n",
            "Requirement already satisfied: decorator>4.1.2 in /usr/local/lib/python3.11/dist-packages (from gcsfs==2024.9.0) (4.4.2)\n",
            "Collecting fsspec==2024.6.1 (from gcsfs==2024.9.0)\n",
            "  Downloading fsspec-2024.6.1-py3-none-any.whl.metadata (11 kB)\n",
            "Requirement already satisfied: google-auth>=1.2 in /usr/local/lib/python3.11/dist-packages (from gcsfs==2024.9.0) (2.27.0)\n",
            "Requirement already satisfied: google-auth-oauthlib in /usr/local/lib/python3.11/dist-packages (from gcsfs==2024.9.0) (1.2.1)\n",
            "Requirement already satisfied: google-cloud-storage in /usr/local/lib/python3.11/dist-packages (from gcsfs==2024.9.0) (2.19.0)\n",
            "Requirement already satisfied: requests in /usr/local/lib/python3.11/dist-packages (from gcsfs==2024.9.0) (2.32.3)\n",
            "Requirement already satisfied: aiohappyeyeballs>=2.3.0 in /usr/local/lib/python3.11/dist-packages (from aiohttp!=4.0.0a0,!=4.0.0a1->gcsfs==2024.9.0) (2.4.4)\n",
            "Requirement already satisfied: aiosignal>=1.1.2 in /usr/local/lib/python3.11/dist-packages (from aiohttp!=4.0.0a0,!=4.0.0a1->gcsfs==2024.9.0) (1.3.2)\n",
            "Requirement already satisfied: attrs>=17.3.0 in /usr/local/lib/python3.11/dist-packages (from aiohttp!=4.0.0a0,!=4.0.0a1->gcsfs==2024.9.0) (24.3.0)\n",
            "Requirement already satisfied: frozenlist>=1.1.1 in /usr/local/lib/python3.11/dist-packages (from aiohttp!=4.0.0a0,!=4.0.0a1->gcsfs==2024.9.0) (1.5.0)\n",
            "Requirement already satisfied: multidict<7.0,>=4.5 in /usr/local/lib/python3.11/dist-packages (from aiohttp!=4.0.0a0,!=4.0.0a1->gcsfs==2024.9.0) (6.1.0)\n",
            "Requirement already satisfied: propcache>=0.2.0 in /usr/local/lib/python3.11/dist-packages (from aiohttp!=4.0.0a0,!=4.0.0a1->gcsfs==2024.9.0) (0.2.1)\n",
            "Requirement already satisfied: yarl<2.0,>=1.17.0 in /usr/local/lib/python3.11/dist-packages (from aiohttp!=4.0.0a0,!=4.0.0a1->gcsfs==2024.9.0) (1.18.3)\n",
            "Requirement already satisfied: cachetools<6.0,>=2.0.0 in /usr/local/lib/python3.11/dist-packages (from google-auth>=1.2->gcsfs==2024.9.0) (5.5.0)\n",
            "Requirement already satisfied: pyasn1-modules>=0.2.1 in /usr/local/lib/python3.11/dist-packages (from google-auth>=1.2->gcsfs==2024.9.0) (0.4.1)\n",
            "Requirement already satisfied: rsa<5,>=3.1.4 in /usr/local/lib/python3.11/dist-packages (from google-auth>=1.2->gcsfs==2024.9.0) (4.9)\n",
            "Requirement already satisfied: requests-oauthlib>=0.7.0 in /usr/local/lib/python3.11/dist-packages (from google-auth-oauthlib->gcsfs==2024.9.0) (1.3.1)\n",
            "Requirement already satisfied: google-api-core<3.0.0dev,>=2.15.0 in /usr/local/lib/python3.11/dist-packages (from google-cloud-storage->gcsfs==2024.9.0) (2.19.2)\n",
            "Requirement already satisfied: google-cloud-core<3.0dev,>=2.3.0 in /usr/local/lib/python3.11/dist-packages (from google-cloud-storage->gcsfs==2024.9.0) (2.4.1)\n",
            "Requirement already satisfied: google-resumable-media>=2.7.2 in /usr/local/lib/python3.11/dist-packages (from google-cloud-storage->gcsfs==2024.9.0) (2.7.2)\n",
            "Requirement already satisfied: google-crc32c<2.0dev,>=1.0 in /usr/local/lib/python3.11/dist-packages (from google-cloud-storage->gcsfs==2024.9.0) (1.6.0)\n",
            "Requirement already satisfied: charset-normalizer<4,>=2 in /usr/local/lib/python3.11/dist-packages (from requests->gcsfs==2024.9.0) (3.4.1)\n",
            "Requirement already satisfied: idna<4,>=2.5 in /usr/local/lib/python3.11/dist-packages (from requests->gcsfs==2024.9.0) (3.10)\n",
            "Requirement already satisfied: urllib3<3,>=1.21.1 in /usr/local/lib/python3.11/dist-packages (from requests->gcsfs==2024.9.0) (2.3.0)\n",
            "Requirement already satisfied: certifi>=2017.4.17 in /usr/local/lib/python3.11/dist-packages (from requests->gcsfs==2024.9.0) (2024.12.14)\n",
            "Requirement already satisfied: googleapis-common-protos<2.0.dev0,>=1.56.2 in /usr/local/lib/python3.11/dist-packages (from google-api-core<3.0.0dev,>=2.15.0->google-cloud-storage->gcsfs==2024.9.0) (1.66.0)\n",
            "Requirement already satisfied: protobuf!=3.20.0,!=3.20.1,!=4.21.0,!=4.21.1,!=4.21.2,!=4.21.3,!=4.21.4,!=4.21.5,<6.0.0.dev0,>=3.19.5 in /usr/local/lib/python3.11/dist-packages (from google-api-core<3.0.0dev,>=2.15.0->google-cloud-storage->gcsfs==2024.9.0) (4.25.5)\n",
            "Requirement already satisfied: proto-plus<2.0.0dev,>=1.22.3 in /usr/local/lib/python3.11/dist-packages (from google-api-core<3.0.0dev,>=2.15.0->google-cloud-storage->gcsfs==2024.9.0) (1.25.0)\n",
            "Requirement already satisfied: pyasn1<0.7.0,>=0.4.6 in /usr/local/lib/python3.11/dist-packages (from pyasn1-modules>=0.2.1->google-auth>=1.2->gcsfs==2024.9.0) (0.6.1)\n",
            "Requirement already satisfied: oauthlib>=3.0.0 in /usr/local/lib/python3.11/dist-packages (from requests-oauthlib>=0.7.0->google-auth-oauthlib->gcsfs==2024.9.0) (3.2.2)\n",
            "\u001b[33mWARNING: The candidate selected for download or install is a yanked version: 'gcsfs' candidate (version 2024.9.0 at https://files.pythonhosted.org/packages/46/87/165a7fc37498576b1622fe69b1915d60cf145bb5d7c4a2ee9943bad44040/gcsfs-2024.9.0-py2.py3-none-any.whl (from https://pypi.org/simple/gcsfs/) (requires-python:>=3.8))\n",
            "Reason for being yanked: requirements incorrect\u001b[0m\u001b[33m\n",
            "\u001b[0mDownloading gcsfs-2024.9.0-py2.py3-none-any.whl (34 kB)\n",
            "Downloading fsspec-2024.6.1-py3-none-any.whl (177 kB)\n",
            "\u001b[2K   \u001b[90m━━━━━━━━━━━━━━━━━━━━━━━━━━━━━━━━━━━━━━━━\u001b[0m \u001b[32m177.6/177.6 kB\u001b[0m \u001b[31m8.7 MB/s\u001b[0m eta \u001b[36m0:00:00\u001b[0m\n",
            "\u001b[?25hInstalling collected packages: fsspec, gcsfs\n",
            "  Attempting uninstall: fsspec\n",
            "    Found existing installation: fsspec 2024.10.0\n",
            "    Uninstalling fsspec-2024.10.0:\n",
            "      Successfully uninstalled fsspec-2024.10.0\n",
            "  Attempting uninstall: gcsfs\n",
            "    Found existing installation: gcsfs 2024.10.0\n",
            "    Uninstalling gcsfs-2024.10.0:\n",
            "      Successfully uninstalled gcsfs-2024.10.0\n",
            "Successfully installed fsspec-2024.6.1 gcsfs-2024.9.0\n"
          ]
        }
      ]
    },
    {
      "cell_type": "code",
      "source": [
        "!pip install fsspec==2024.9.0"
      ],
      "metadata": {
        "colab": {
          "base_uri": "https://localhost:8080/"
        },
        "id": "6DDFlxlpe81I",
        "outputId": "2f694c7f-6292-4cc0-a8dc-f74bc998ff87"
      },
      "execution_count": null,
      "outputs": [
        {
          "output_type": "stream",
          "name": "stdout",
          "text": [
            "Collecting fsspec==2024.9.0\n",
            "  Downloading fsspec-2024.9.0-py3-none-any.whl.metadata (11 kB)\n",
            "Downloading fsspec-2024.9.0-py3-none-any.whl (179 kB)\n",
            "\u001b[?25l   \u001b[90m━━━━━━━━━━━━━━━━━━━━━━━━━━━━━━━━━━━━━━━━\u001b[0m \u001b[32m0.0/179.3 kB\u001b[0m \u001b[31m?\u001b[0m eta \u001b[36m-:--:--\u001b[0m\r\u001b[2K   \u001b[91m━━━━━━━━━━━━━━━━━━━━━━━━━━━━━━━━━━━━\u001b[0m\u001b[91m╸\u001b[0m\u001b[90m━━━\u001b[0m \u001b[32m163.8/179.3 kB\u001b[0m \u001b[31m4.8 MB/s\u001b[0m eta \u001b[36m0:00:01\u001b[0m\r\u001b[2K   \u001b[90m━━━━━━━━━━━━━━━━━━━━━━━━━━━━━━━━━━━━━━━━\u001b[0m \u001b[32m179.3/179.3 kB\u001b[0m \u001b[31m3.3 MB/s\u001b[0m eta \u001b[36m0:00:00\u001b[0m\n",
            "\u001b[?25hInstalling collected packages: fsspec\n",
            "  Attempting uninstall: fsspec\n",
            "    Found existing installation: fsspec 2024.6.1\n",
            "    Uninstalling fsspec-2024.6.1:\n",
            "      Successfully uninstalled fsspec-2024.6.1\n",
            "\u001b[31mERROR: pip's dependency resolver does not currently take into account all the packages that are installed. This behaviour is the source of the following dependency conflicts.\n",
            "gcsfs 2024.9.0 requires fsspec==2024.6.1, but you have fsspec 2024.9.0 which is incompatible.\u001b[0m\u001b[31m\n",
            "\u001b[0mSuccessfully installed fsspec-2024.9.0\n"
          ]
        }
      ]
    },
    {
      "cell_type": "code",
      "source": [
        "!pip install transformers datasets emoji -q --use-deprecated=legacy-resolver"
      ],
      "metadata": {
        "id": "ZDPa595vbc8X",
        "colab": {
          "base_uri": "https://localhost:8080/"
        },
        "outputId": "4f99603f-5c4c-4ee9-f16d-de486d8f22ba"
      },
      "execution_count": null,
      "outputs": [
        {
          "output_type": "stream",
          "name": "stdout",
          "text": [
            "\u001b[2K     \u001b[90m━━━━━━━━━━━━━━━━━━━━━━━━━━━━━━━━━━━━━━━━\u001b[0m \u001b[32m480.6/480.6 kB\u001b[0m \u001b[31m6.6 MB/s\u001b[0m eta \u001b[36m0:00:00\u001b[0m\n",
            "\u001b[2K     \u001b[90m━━━━━━━━━━━━━━━━━━━━━━━━━━━━━━━━━━━━━━━━\u001b[0m \u001b[32m590.6/590.6 kB\u001b[0m \u001b[31m24.8 MB/s\u001b[0m eta \u001b[36m0:00:00\u001b[0m\n",
            "\u001b[2K     \u001b[90m━━━━━━━━━━━━━━━━━━━━━━━━━━━━━━━━━━━━━━━━\u001b[0m \u001b[32m116.3/116.3 kB\u001b[0m \u001b[31m7.9 MB/s\u001b[0m eta \u001b[36m0:00:00\u001b[0m\n",
            "\u001b[2K     \u001b[90m━━━━━━━━━━━━━━━━━━━━━━━━━━━━━━━━━━━━━━━━\u001b[0m \u001b[32m194.8/194.8 kB\u001b[0m \u001b[31m9.8 MB/s\u001b[0m eta \u001b[36m0:00:00\u001b[0m\n",
            "\u001b[2K     \u001b[90m━━━━━━━━━━━━━━━━━━━━━━━━━━━━━━━━━━━━━━━━\u001b[0m \u001b[32m143.5/143.5 kB\u001b[0m \u001b[31m10.0 MB/s\u001b[0m eta \u001b[36m0:00:00\u001b[0m\n",
            "\u001b[?25h"
          ]
        }
      ]
    },
    {
      "cell_type": "code",
      "source": [
        "!pip install wordcloud matplotlib nltk"
      ],
      "metadata": {
        "colab": {
          "base_uri": "https://localhost:8080/"
        },
        "id": "YO2M-BEw5eJ6",
        "outputId": "c79b1fb3-5f6a-4c21-ad01-f599ebe47393"
      },
      "execution_count": null,
      "outputs": [
        {
          "output_type": "stream",
          "name": "stdout",
          "text": [
            "Requirement already satisfied: wordcloud in /usr/local/lib/python3.11/dist-packages (1.9.4)\n",
            "Requirement already satisfied: matplotlib in /usr/local/lib/python3.11/dist-packages (3.10.0)\n",
            "Requirement already satisfied: nltk in /usr/local/lib/python3.11/dist-packages (3.9.1)\n",
            "Requirement already satisfied: numpy>=1.6.1 in /usr/local/lib/python3.11/dist-packages (from wordcloud) (1.26.4)\n",
            "Requirement already satisfied: pillow in /usr/local/lib/python3.11/dist-packages (from wordcloud) (11.1.0)\n",
            "Requirement already satisfied: contourpy>=1.0.1 in /usr/local/lib/python3.11/dist-packages (from matplotlib) (1.3.1)\n",
            "Requirement already satisfied: cycler>=0.10 in /usr/local/lib/python3.11/dist-packages (from matplotlib) (0.12.1)\n",
            "Requirement already satisfied: fonttools>=4.22.0 in /usr/local/lib/python3.11/dist-packages (from matplotlib) (4.55.3)\n",
            "Requirement already satisfied: kiwisolver>=1.3.1 in /usr/local/lib/python3.11/dist-packages (from matplotlib) (1.4.8)\n",
            "Requirement already satisfied: packaging>=20.0 in /usr/local/lib/python3.11/dist-packages (from matplotlib) (24.2)\n",
            "Requirement already satisfied: pyparsing>=2.3.1 in /usr/local/lib/python3.11/dist-packages (from matplotlib) (3.2.1)\n",
            "Requirement already satisfied: python-dateutil>=2.7 in /usr/local/lib/python3.11/dist-packages (from matplotlib) (2.8.2)\n",
            "Requirement already satisfied: click in /usr/local/lib/python3.11/dist-packages (from nltk) (8.1.8)\n",
            "Requirement already satisfied: joblib in /usr/local/lib/python3.11/dist-packages (from nltk) (1.4.2)\n",
            "Requirement already satisfied: regex>=2021.8.3 in /usr/local/lib/python3.11/dist-packages (from nltk) (2024.11.6)\n",
            "Requirement already satisfied: tqdm in /usr/local/lib/python3.11/dist-packages (from nltk) (4.67.1)\n",
            "Requirement already satisfied: six>=1.5 in /usr/local/lib/python3.11/dist-packages (from python-dateutil>=2.7->matplotlib) (1.17.0)\n"
          ]
        }
      ]
    },
    {
      "cell_type": "code",
      "execution_count": null,
      "metadata": {
        "id": "YQWd1JKIVGIV",
        "colab": {
          "base_uri": "https://localhost:8080/"
        },
        "outputId": "a8052677-2ecf-43e8-c1f0-0917df1da3c8"
      },
      "outputs": [
        {
          "output_type": "stream",
          "name": "stderr",
          "text": [
            "[nltk_data] Downloading package stopwords to /root/nltk_data...\n",
            "[nltk_data]   Unzipping corpora/stopwords.zip.\n"
          ]
        }
      ],
      "source": [
        "import os\n",
        "import re\n",
        "import nltk\n",
        "nltk.download('stopwords')\n",
        "from nltk.corpus import stopwords\n",
        "import emoji\n",
        "import torch\n",
        "import zipfile\n",
        "import numpy as np\n",
        "import pandas as pd\n",
        "import seaborn as sns\n",
        "from datasets import Dataset\n",
        "import matplotlib.pyplot as plt\n",
        "from wordcloud import WordCloud, STOPWORDS\n",
        "from transformers import DataCollatorWithPadding\n",
        "from sklearn.metrics import accuracy_score, f1_score, precision_score, classification_report, confusion_matrix\n",
        "from sklearn.model_selection import train_test_split, cross_val_score\n",
        "from sklearn.linear_model import LogisticRegression\n",
        "from transformers import BertTokenizer, BertForSequenceClassification, Trainer, TrainingArguments"
      ]
    },
    {
      "cell_type": "code",
      "source": [
        "device = torch.device(\"cuda\" if torch.cuda.is_available() else \"cpu\")\n",
        "print(f\"Using device: {device}\")"
      ],
      "metadata": {
        "colab": {
          "base_uri": "https://localhost:8080/"
        },
        "id": "W1JSCAlVbveG",
        "outputId": "a05f9203-723c-401d-b380-b35489ffad01"
      },
      "execution_count": null,
      "outputs": [
        {
          "output_type": "stream",
          "name": "stdout",
          "text": [
            "Using device: cpu\n"
          ]
        }
      ]
    },
    {
      "cell_type": "markdown",
      "source": [
        "Dataset"
      ],
      "metadata": {
        "id": "kYxE0bqUVRuo"
      }
    },
    {
      "cell_type": "code",
      "source": [
        "!wget -q https://storage.googleapis.com/babak-dataset/indonlu/smsa_doc-sentiment-prosa/train_preprocess.tsv\n",
        "!wget -q https://storage.googleapis.com/babak-dataset/indonlu/smsa_doc-sentiment-prosa/valid_preprocess.tsv"
      ],
      "metadata": {
        "id": "UuJNBB9cbzlV"
      },
      "execution_count": null,
      "outputs": []
    },
    {
      "cell_type": "code",
      "source": [
        "from google.colab import drive\n",
        "from google.colab import files\n",
        "drive.mount('/content/drive')"
      ],
      "metadata": {
        "colab": {
          "base_uri": "https://localhost:8080/"
        },
        "id": "b8vNqUA2VW5h",
        "outputId": "42be4825-4aa4-4e54-8f46-0f42645109b6"
      },
      "execution_count": null,
      "outputs": [
        {
          "output_type": "stream",
          "name": "stdout",
          "text": [
            "Mounted at /content/drive\n"
          ]
        }
      ]
    },
    {
      "cell_type": "code",
      "source": [
        "#unzip data\n",
        "zip_path = '/content/drive/My Drive/indonlu/indonlu-master.zip'\n",
        "extract_to = '/content/drive/My Drive/indonlu'\n",
        "\n",
        "with zipfile.ZipFile(zip_path, 'r') as zip_ref:\n",
        "    zip_ref.extractall(extract_to)\n",
        "\n",
        "extracted_files = os.listdir(extract_to)\n",
        "print(\"Extracted Files:\", extracted_files)"
      ],
      "metadata": {
        "colab": {
          "base_uri": "https://localhost:8080/"
        },
        "id": "Rn4qV2iIVpSc",
        "outputId": "f735921b-273b-43cb-d6cb-df81e0e9dcb8"
      },
      "execution_count": null,
      "outputs": [
        {
          "output_type": "stream",
          "name": "stdout",
          "text": [
            "Extracted Files: ['indonlu-master.zip', 'indonlu-master', 'trained_model']\n"
          ]
        }
      ]
    },
    {
      "cell_type": "code",
      "source": [
        "base_path = \"/content/drive/My Drive/indonlu/indonlu-master/\"\n",
        "for root, dirs, files in os.walk(base_path):\n",
        "    print(f\"Folder: {root}\")\n",
        "    for file in files:\n",
        "        print(f\"File: {file}\")"
      ],
      "metadata": {
        "colab": {
          "base_uri": "https://localhost:8080/"
        },
        "id": "fdHE5Vnqg0zH",
        "outputId": "6a37010f-4e8c-48b3-bcbc-fec3bcd649c4"
      },
      "execution_count": null,
      "outputs": [
        {
          "output_type": "stream",
          "name": "stdout",
          "text": [
            "Folder: /content/drive/My Drive/indonlu/indonlu-master/\n",
            "File: .gitignore\n",
            "File: LICENSE\n",
            "File: README.id.md\n",
            "File: CONTRIBUTING.md\n",
            "File: README.md\n",
            "File: CODE_OF_CONDUCT.md\n",
            "File: main.py\n",
            "File: requirements.txt\n",
            "File: predict.sh\n",
            "File: predict.py\n",
            "File: run_all_tasks.sh\n",
            "File: run_single_task.sh\n",
            "Folder: /content/drive/My Drive/indonlu/indonlu-master/.github\n",
            "File: PULL_REQUEST_TEMPLATE.md\n",
            "File: ISSUE_TEMPLATE.md\n",
            "Folder: /content/drive/My Drive/indonlu/indonlu-master/data_utils_notebook\n",
            "File: aspect_based_sentiment_analysis.ipynb\n",
            "File: ner_data_utils.ipynb\n",
            "File: aspect_extraction_data_util.ipynb\n",
            "File: postag_data_utils.ipynb\n",
            "Folder: /content/drive/My Drive/indonlu/indonlu-master/dataset\n",
            "Folder: /content/drive/My Drive/indonlu/indonlu-master/dataset/bapos_pos-idn\n",
            "File: vocab.txt\n",
            "File: test_preprocess.txt\n",
            "File: valid_preprocess.txt\n",
            "File: vocab_uncased.txt\n",
            "File: test_preprocess_masked_label.txt\n",
            "File: train_preprocess.txt\n",
            "Folder: /content/drive/My Drive/indonlu/indonlu-master/dataset/casa_absa-prosa\n",
            "File: test_preprocess.csv\n",
            "File: test_preprocess_masked_label.csv\n",
            "File: train_preprocess.csv\n",
            "File: valid_preprocess.csv\n",
            "File: vocab_uncased.txt\n",
            "File: vocab.txt\n",
            "Folder: /content/drive/My Drive/indonlu/indonlu-master/dataset/emot_emotion-twitter\n",
            "File: train_preprocess.csv\n",
            "File: test_preprocess_masked_label.csv\n",
            "File: test_preprocess.csv\n",
            "File: valid_preprocess.csv\n",
            "File: vocab.txt\n",
            "File: vocab_uncased.txt\n",
            "Folder: /content/drive/My Drive/indonlu/indonlu-master/dataset/facqa_qa-factoid-itb\n",
            "File: test_preprocess.csv\n",
            "File: test_preprocess_masked_label.csv\n",
            "File: train_preprocess.csv\n",
            "File: valid_preprocess.csv\n",
            "File: vocab_uncased.txt\n",
            "File: vocab.txt\n",
            "Folder: /content/drive/My Drive/indonlu/indonlu-master/dataset/hoasa_absa-airy\n",
            "File: test_preprocess_masked_label.csv\n",
            "File: valid_preprocess.csv\n",
            "File: train_preprocess.csv\n",
            "File: vocab.txt\n",
            "File: test_preprocess.csv\n",
            "File: vocab_uncased.txt\n",
            "Folder: /content/drive/My Drive/indonlu/indonlu-master/dataset/keps_keyword-extraction-prosa\n",
            "File: vocab.txt\n",
            "File: vocab_uncased.txt\n",
            "File: test_preprocess_masked_label.txt\n",
            "File: test_preprocess.txt\n",
            "File: valid_preprocess.txt\n",
            "File: train_preprocess.txt\n",
            "Folder: /content/drive/My Drive/indonlu/indonlu-master/dataset/nergrit_ner-grit\n",
            "File: test_preprocess.txt\n",
            "File: train_preprocess.txt\n",
            "File: test_preprocess_masked_label.txt\n",
            "File: valid_preprocess.txt\n",
            "File: vocab_uncased.txt\n",
            "File: vocab.txt\n",
            "Folder: /content/drive/My Drive/indonlu/indonlu-master/dataset/nerp_ner-prosa\n",
            "File: train_preprocess.txt\n",
            "File: test_preprocess.txt\n",
            "File: valid_preprocess.txt\n",
            "File: test_preprocess_masked_label.txt\n",
            "File: vocab.txt\n",
            "File: vocab_uncased.txt\n",
            "Folder: /content/drive/My Drive/indonlu/indonlu-master/dataset/posp_pos-prosa\n",
            "File: test_preprocess.txt\n",
            "File: test_preprocess_masked_label.txt\n",
            "File: valid_preprocess.txt\n",
            "File: train_preprocess.txt\n",
            "File: vocab_uncased.txt\n",
            "File: vocab.txt\n",
            "Folder: /content/drive/My Drive/indonlu/indonlu-master/dataset/smsa_doc-sentiment-prosa\n",
            "File: test_preprocess.tsv\n",
            "File: valid_preprocess.tsv\n",
            "File: vocab.txt\n",
            "File: test_preprocess_masked_label.tsv\n",
            "File: train_preprocess.tsv\n",
            "File: vocab_uncased.txt\n",
            "Folder: /content/drive/My Drive/indonlu/indonlu-master/dataset/terma_term-extraction-airy\n",
            "File: test_preprocess.txt\n",
            "File: test_preprocess_masked_label.txt\n",
            "File: vocab.txt\n",
            "File: vocab_uncased.txt\n",
            "File: valid_preprocess.txt\n",
            "File: train_preprocess.txt\n",
            "Folder: /content/drive/My Drive/indonlu/indonlu-master/dataset/wrete_entailment-ui\n",
            "File: test_preprocess.csv\n",
            "File: test_preprocess_masked_label.csv\n",
            "File: train_preprocess.csv\n",
            "File: valid_preprocess.csv\n",
            "File: vocab_uncased.txt\n",
            "File: vocab.txt\n",
            "Folder: /content/drive/My Drive/indonlu/indonlu-master/examples\n",
            "File: finetune_emot.ipynb\n",
            "File: finetune_fasttext_casa.ipynb\n",
            "File: finetune_casa.ipynb\n",
            "File: finetune_ner_grit.ipynb\n",
            "File: finetune_smsa.ipynb\n",
            "File: finetune_wrete.ipynb\n",
            "File: requirements.txt\n",
            "Folder: /content/drive/My Drive/indonlu/indonlu-master/modules\n",
            "File: word_classification.py\n",
            "File: multi_label_classification.py\n",
            "Folder: /content/drive/My Drive/indonlu/indonlu-master/submission_examples\n",
            "File: absa-airy_test.csv\n",
            "File: absa-prosa_test.csv\n",
            "File: doc-sentiment_test.csv\n",
            "File: keyword-extraction-prosa_test.csv\n",
            "File: entailment-ui_test.csv\n",
            "File: emotion-twitter_test.csv\n",
            "File: ner-grit_test.csv\n",
            "File: pos-prosa_test.csv\n",
            "File: pos-idn_test.csv\n",
            "File: ner-prosa_test.csv\n",
            "File: qa-factoid-itb_test.csv\n",
            "File: term-extraction-airy_test.csv\n",
            "Folder: /content/drive/My Drive/indonlu/indonlu-master/tutorial\n",
            "File: bag_of_word.png\n",
            "File: backprop.png\n",
            "File: bert_pretraining.png\n",
            "File: cnn.png\n",
            "File: chain_rule.png\n",
            "File: fasttext.png\n",
            "File: indonlu_result.png\n",
            "File: gradient_descent.png\n",
            "File: finetune_smsa_tutorial.ipynb\n",
            "File: logistic_regression.png\n",
            "File: tf_idf.png\n",
            "File: transformer.png\n",
            "File: mlp.png\n",
            "File: why_transformer.png\n",
            "File: rnn.png\n",
            "File: word_vector.png\n",
            "Folder: /content/drive/My Drive/indonlu/indonlu-master/utils\n",
            "File: conlleval.py\n",
            "File: args_helper.py\n",
            "File: data_utils.py\n",
            "File: forward_fn.py\n",
            "File: functions.py\n",
            "File: metrics.py\n"
          ]
        }
      ]
    },
    {
      "cell_type": "code",
      "source": [
        "from google.colab import files\n",
        "# Upload file\n",
        "uploaded = files.upload()"
      ],
      "metadata": {
        "colab": {
          "base_uri": "https://localhost:8080/",
          "height": 252
        },
        "id": "bgAIdCCGhA4Z",
        "outputId": "3c2bbd86-9260-44eb-d5a6-fbf7fca463c3"
      },
      "execution_count": null,
      "outputs": [
        {
          "output_type": "display_data",
          "data": {
            "text/plain": [
              "<IPython.core.display.HTML object>"
            ],
            "text/html": [
              "\n",
              "     <input type=\"file\" id=\"files-6e4c26b2-99b3-4dd3-8338-3eae596e1f92\" name=\"files[]\" multiple disabled\n",
              "        style=\"border:none\" />\n",
              "     <output id=\"result-6e4c26b2-99b3-4dd3-8338-3eae596e1f92\">\n",
              "      Upload widget is only available when the cell has been executed in the\n",
              "      current browser session. Please rerun this cell to enable.\n",
              "      </output>\n",
              "      <script>// Copyright 2017 Google LLC\n",
              "//\n",
              "// Licensed under the Apache License, Version 2.0 (the \"License\");\n",
              "// you may not use this file except in compliance with the License.\n",
              "// You may obtain a copy of the License at\n",
              "//\n",
              "//      http://www.apache.org/licenses/LICENSE-2.0\n",
              "//\n",
              "// Unless required by applicable law or agreed to in writing, software\n",
              "// distributed under the License is distributed on an \"AS IS\" BASIS,\n",
              "// WITHOUT WARRANTIES OR CONDITIONS OF ANY KIND, either express or implied.\n",
              "// See the License for the specific language governing permissions and\n",
              "// limitations under the License.\n",
              "\n",
              "/**\n",
              " * @fileoverview Helpers for google.colab Python module.\n",
              " */\n",
              "(function(scope) {\n",
              "function span(text, styleAttributes = {}) {\n",
              "  const element = document.createElement('span');\n",
              "  element.textContent = text;\n",
              "  for (const key of Object.keys(styleAttributes)) {\n",
              "    element.style[key] = styleAttributes[key];\n",
              "  }\n",
              "  return element;\n",
              "}\n",
              "\n",
              "// Max number of bytes which will be uploaded at a time.\n",
              "const MAX_PAYLOAD_SIZE = 100 * 1024;\n",
              "\n",
              "function _uploadFiles(inputId, outputId) {\n",
              "  const steps = uploadFilesStep(inputId, outputId);\n",
              "  const outputElement = document.getElementById(outputId);\n",
              "  // Cache steps on the outputElement to make it available for the next call\n",
              "  // to uploadFilesContinue from Python.\n",
              "  outputElement.steps = steps;\n",
              "\n",
              "  return _uploadFilesContinue(outputId);\n",
              "}\n",
              "\n",
              "// This is roughly an async generator (not supported in the browser yet),\n",
              "// where there are multiple asynchronous steps and the Python side is going\n",
              "// to poll for completion of each step.\n",
              "// This uses a Promise to block the python side on completion of each step,\n",
              "// then passes the result of the previous step as the input to the next step.\n",
              "function _uploadFilesContinue(outputId) {\n",
              "  const outputElement = document.getElementById(outputId);\n",
              "  const steps = outputElement.steps;\n",
              "\n",
              "  const next = steps.next(outputElement.lastPromiseValue);\n",
              "  return Promise.resolve(next.value.promise).then((value) => {\n",
              "    // Cache the last promise value to make it available to the next\n",
              "    // step of the generator.\n",
              "    outputElement.lastPromiseValue = value;\n",
              "    return next.value.response;\n",
              "  });\n",
              "}\n",
              "\n",
              "/**\n",
              " * Generator function which is called between each async step of the upload\n",
              " * process.\n",
              " * @param {string} inputId Element ID of the input file picker element.\n",
              " * @param {string} outputId Element ID of the output display.\n",
              " * @return {!Iterable<!Object>} Iterable of next steps.\n",
              " */\n",
              "function* uploadFilesStep(inputId, outputId) {\n",
              "  const inputElement = document.getElementById(inputId);\n",
              "  inputElement.disabled = false;\n",
              "\n",
              "  const outputElement = document.getElementById(outputId);\n",
              "  outputElement.innerHTML = '';\n",
              "\n",
              "  const pickedPromise = new Promise((resolve) => {\n",
              "    inputElement.addEventListener('change', (e) => {\n",
              "      resolve(e.target.files);\n",
              "    });\n",
              "  });\n",
              "\n",
              "  const cancel = document.createElement('button');\n",
              "  inputElement.parentElement.appendChild(cancel);\n",
              "  cancel.textContent = 'Cancel upload';\n",
              "  const cancelPromise = new Promise((resolve) => {\n",
              "    cancel.onclick = () => {\n",
              "      resolve(null);\n",
              "    };\n",
              "  });\n",
              "\n",
              "  // Wait for the user to pick the files.\n",
              "  const files = yield {\n",
              "    promise: Promise.race([pickedPromise, cancelPromise]),\n",
              "    response: {\n",
              "      action: 'starting',\n",
              "    }\n",
              "  };\n",
              "\n",
              "  cancel.remove();\n",
              "\n",
              "  // Disable the input element since further picks are not allowed.\n",
              "  inputElement.disabled = true;\n",
              "\n",
              "  if (!files) {\n",
              "    return {\n",
              "      response: {\n",
              "        action: 'complete',\n",
              "      }\n",
              "    };\n",
              "  }\n",
              "\n",
              "  for (const file of files) {\n",
              "    const li = document.createElement('li');\n",
              "    li.append(span(file.name, {fontWeight: 'bold'}));\n",
              "    li.append(span(\n",
              "        `(${file.type || 'n/a'}) - ${file.size} bytes, ` +\n",
              "        `last modified: ${\n",
              "            file.lastModifiedDate ? file.lastModifiedDate.toLocaleDateString() :\n",
              "                                    'n/a'} - `));\n",
              "    const percent = span('0% done');\n",
              "    li.appendChild(percent);\n",
              "\n",
              "    outputElement.appendChild(li);\n",
              "\n",
              "    const fileDataPromise = new Promise((resolve) => {\n",
              "      const reader = new FileReader();\n",
              "      reader.onload = (e) => {\n",
              "        resolve(e.target.result);\n",
              "      };\n",
              "      reader.readAsArrayBuffer(file);\n",
              "    });\n",
              "    // Wait for the data to be ready.\n",
              "    let fileData = yield {\n",
              "      promise: fileDataPromise,\n",
              "      response: {\n",
              "        action: 'continue',\n",
              "      }\n",
              "    };\n",
              "\n",
              "    // Use a chunked sending to avoid message size limits. See b/62115660.\n",
              "    let position = 0;\n",
              "    do {\n",
              "      const length = Math.min(fileData.byteLength - position, MAX_PAYLOAD_SIZE);\n",
              "      const chunk = new Uint8Array(fileData, position, length);\n",
              "      position += length;\n",
              "\n",
              "      const base64 = btoa(String.fromCharCode.apply(null, chunk));\n",
              "      yield {\n",
              "        response: {\n",
              "          action: 'append',\n",
              "          file: file.name,\n",
              "          data: base64,\n",
              "        },\n",
              "      };\n",
              "\n",
              "      let percentDone = fileData.byteLength === 0 ?\n",
              "          100 :\n",
              "          Math.round((position / fileData.byteLength) * 100);\n",
              "      percent.textContent = `${percentDone}% done`;\n",
              "\n",
              "    } while (position < fileData.byteLength);\n",
              "  }\n",
              "\n",
              "  // All done.\n",
              "  yield {\n",
              "    response: {\n",
              "      action: 'complete',\n",
              "    }\n",
              "  };\n",
              "}\n",
              "\n",
              "scope.google = scope.google || {};\n",
              "scope.google.colab = scope.google.colab || {};\n",
              "scope.google.colab._files = {\n",
              "  _uploadFiles,\n",
              "  _uploadFilesContinue,\n",
              "};\n",
              "})(self);\n",
              "</script> "
            ]
          },
          "metadata": {}
        },
        {
          "output_type": "stream",
          "name": "stdout",
          "text": [
            "Saving test_preprocess.tsv to test_preprocess.tsv\n",
            "Saving test_preprocess_masked_label.tsv to test_preprocess_masked_label.tsv\n",
            "Saving train_preprocess.tsv to train_preprocess.tsv\n",
            "Saving valid_preprocess.tsv to valid_preprocess.tsv\n",
            "Saving vocab.txt to vocab.txt\n",
            "Saving vocab_uncased.txt to vocab_uncased.txt\n"
          ]
        }
      ]
    },
    {
      "cell_type": "code",
      "source": [
        "print(\"Current working directory:\", os.getcwd())"
      ],
      "metadata": {
        "id": "XSnRtg1hipOq",
        "colab": {
          "base_uri": "https://localhost:8080/"
        },
        "outputId": "340bc68c-4f14-4896-8440-c8ef6f457497"
      },
      "execution_count": null,
      "outputs": [
        {
          "output_type": "stream",
          "name": "stdout",
          "text": [
            "Current working directory: /content\n"
          ]
        }
      ]
    },
    {
      "cell_type": "code",
      "source": [
        "print(\"Files in the current directory:\", os.listdir())"
      ],
      "metadata": {
        "id": "bisFrVRTiw8P",
        "colab": {
          "base_uri": "https://localhost:8080/"
        },
        "outputId": "8db1deba-466c-4b70-9aac-05d793433cac"
      },
      "execution_count": null,
      "outputs": [
        {
          "output_type": "stream",
          "name": "stdout",
          "text": [
            "Files in the current directory: ['.config', 'valid_preprocess.tsv', 'drive', 'vocab.txt', 'train_preprocess.tsv', 'test_preprocess.tsv', 'vocab_uncased.txt', 'test_preprocess_masked_label.tsv', 'sample_data']\n"
          ]
        }
      ]
    },
    {
      "cell_type": "code",
      "source": [
        "train_df = pd.read_csv(\"/content/train_preprocess.tsv\", sep=\"\\t\", names=[\"text\", \"label\"])\n",
        "valid_df = pd.read_csv(\"/content/valid_preprocess.tsv\", sep=\"\\t\", names=[\"text\", \"label\"])"
      ],
      "metadata": {
        "id": "-jyrqwqsb2OE"
      },
      "execution_count": null,
      "outputs": []
    },
    {
      "cell_type": "code",
      "source": [
        "label_map = {\"positive\": 0, \"neutral\": 1, \"negative\": 2}\n",
        "train_df[\"label\"] = train_df[\"label\"].map(label_map)\n",
        "valid_df[\"label\"] = valid_df[\"label\"].map(label_map)"
      ],
      "metadata": {
        "id": "PIRaLO-Eb6Di"
      },
      "execution_count": null,
      "outputs": []
    },
    {
      "cell_type": "code",
      "source": [
        "test_df = pd.read_csv(\"test_preprocess.tsv\", sep=\"\\t\", names=[\"text\", \"label\"])\n",
        "test_df[\"label\"] = test_df[\"label\"].map(label_map)"
      ],
      "metadata": {
        "id": "PNcGM68xRUhf"
      },
      "execution_count": null,
      "outputs": []
    },
    {
      "cell_type": "markdown",
      "source": [
        "Preprocessing Data"
      ],
      "metadata": {
        "id": "n9J67YeDVXX3"
      }
    },
    {
      "cell_type": "code",
      "source": [
        "def preprocess_text(text):\n",
        "    # Convert emoticons to text (emoji description)\n",
        "    text = emoji.demojize(text, delimiters=(\" \", \" \"))\n",
        "    # Lowercasing\n",
        "    text = text.lower()\n",
        "    return text"
      ],
      "metadata": {
        "id": "0DNx9y81cCax"
      },
      "execution_count": null,
      "outputs": []
    },
    {
      "cell_type": "code",
      "source": [
        "train_df[\"text\"] = train_df[\"text\"].apply(preprocess_text)\n",
        "valid_df[\"text\"] = valid_df[\"text\"].apply(preprocess_text)"
      ],
      "metadata": {
        "id": "geDmvh1PcC-p"
      },
      "execution_count": null,
      "outputs": []
    },
    {
      "cell_type": "code",
      "source": [
        "train_dataset = Dataset.from_pandas(train_df)\n",
        "valid_dataset = Dataset.from_pandas(valid_df)"
      ],
      "metadata": {
        "id": "RgkgNgCVVZVh"
      },
      "execution_count": null,
      "outputs": []
    },
    {
      "cell_type": "code",
      "source": [
        "test_df[\"text\"] = test_df[\"text\"].apply(preprocess_text)\n",
        "test_dataset = Dataset.from_pandas(test_df)\n",
        "test_dataset = test_dataset.map(tokenize_data, batched=True)\n",
        "test_dataset = test_dataset.remove_columns([\"text\"])"
      ],
      "metadata": {
        "id": "lV-U5dP2RXpx",
        "colab": {
          "base_uri": "https://localhost:8080/",
          "height": 203
        },
        "outputId": "03598c21-a243-468d-cdc9-806a29cb41c2"
      },
      "execution_count": null,
      "outputs": [
        {
          "output_type": "error",
          "ename": "NameError",
          "evalue": "name 'tokenize_data' is not defined",
          "traceback": [
            "\u001b[0;31m---------------------------------------------------------------------------\u001b[0m",
            "\u001b[0;31mNameError\u001b[0m                                 Traceback (most recent call last)",
            "\u001b[0;32m<ipython-input-26-cc7d76aaf908>\u001b[0m in \u001b[0;36m<cell line: 0>\u001b[0;34m()\u001b[0m\n\u001b[1;32m      1\u001b[0m \u001b[0mtest_df\u001b[0m\u001b[0;34m[\u001b[0m\u001b[0;34m\"text\"\u001b[0m\u001b[0;34m]\u001b[0m \u001b[0;34m=\u001b[0m \u001b[0mtest_df\u001b[0m\u001b[0;34m[\u001b[0m\u001b[0;34m\"text\"\u001b[0m\u001b[0;34m]\u001b[0m\u001b[0;34m.\u001b[0m\u001b[0mapply\u001b[0m\u001b[0;34m(\u001b[0m\u001b[0mpreprocess_text\u001b[0m\u001b[0;34m)\u001b[0m\u001b[0;34m\u001b[0m\u001b[0;34m\u001b[0m\u001b[0m\n\u001b[1;32m      2\u001b[0m \u001b[0mtest_dataset\u001b[0m \u001b[0;34m=\u001b[0m \u001b[0mDataset\u001b[0m\u001b[0;34m.\u001b[0m\u001b[0mfrom_pandas\u001b[0m\u001b[0;34m(\u001b[0m\u001b[0mtest_df\u001b[0m\u001b[0;34m)\u001b[0m\u001b[0;34m\u001b[0m\u001b[0;34m\u001b[0m\u001b[0m\n\u001b[0;32m----> 3\u001b[0;31m \u001b[0mtest_dataset\u001b[0m \u001b[0;34m=\u001b[0m \u001b[0mtest_dataset\u001b[0m\u001b[0;34m.\u001b[0m\u001b[0mmap\u001b[0m\u001b[0;34m(\u001b[0m\u001b[0mtokenize_data\u001b[0m\u001b[0;34m,\u001b[0m \u001b[0mbatched\u001b[0m\u001b[0;34m=\u001b[0m\u001b[0;32mTrue\u001b[0m\u001b[0;34m)\u001b[0m\u001b[0;34m\u001b[0m\u001b[0;34m\u001b[0m\u001b[0m\n\u001b[0m\u001b[1;32m      4\u001b[0m \u001b[0mtest_dataset\u001b[0m \u001b[0;34m=\u001b[0m \u001b[0mtest_dataset\u001b[0m\u001b[0;34m.\u001b[0m\u001b[0mremove_columns\u001b[0m\u001b[0;34m(\u001b[0m\u001b[0;34m[\u001b[0m\u001b[0;34m\"text\"\u001b[0m\u001b[0;34m]\u001b[0m\u001b[0;34m)\u001b[0m\u001b[0;34m\u001b[0m\u001b[0;34m\u001b[0m\u001b[0m\n",
            "\u001b[0;31mNameError\u001b[0m: name 'tokenize_data' is not defined"
          ]
        }
      ]
    },
    {
      "cell_type": "markdown",
      "source": [
        "Load Pretrained Model (IndoBERT)"
      ],
      "metadata": {
        "id": "MU5ohrN5VZsI"
      }
    },
    {
      "cell_type": "code",
      "source": [
        "model_name = \"indobenchmark/indobert-base-p1\"\n",
        "tokenizer = BertTokenizer.from_pretrained(model_name)\n",
        "model = BertForSequenceClassification.from_pretrained(model_name, num_labels=3)"
      ],
      "metadata": {
        "id": "l2eatsVKcLSP"
      },
      "execution_count": null,
      "outputs": []
    },
    {
      "cell_type": "markdown",
      "source": [
        "Tokenisasi"
      ],
      "metadata": {
        "id": "GyNI3o88cNoD"
      }
    },
    {
      "cell_type": "code",
      "source": [
        "# Tokenisasi dataset\n",
        "def tokenize_data(example):\n",
        "    return tokenizer(example[\"text\"], truncation=True, padding=\"max_length\", max_length=128)\n",
        "\n",
        "train_dataset = train_dataset.map(tokenize_data, batched=True)\n",
        "valid_dataset = valid_dataset.map(tokenize_data, batched=True)"
      ],
      "metadata": {
        "id": "W5AIND4vcOZn"
      },
      "execution_count": null,
      "outputs": []
    },
    {
      "cell_type": "code",
      "source": [
        "# Hapus kolom teks yang tidak diperlukan\n",
        "train_dataset = train_dataset.remove_columns([\"text\"])\n",
        "valid_dataset = valid_dataset.remove_columns([\"text\"])"
      ],
      "metadata": {
        "id": "JCD8MxO6cQrw"
      },
      "execution_count": null,
      "outputs": []
    },
    {
      "cell_type": "code",
      "source": [
        "# Tentukan data collator\n",
        "data_collator = DataCollatorWithPadding(tokenizer=tokenizer)"
      ],
      "metadata": {
        "id": "RrRotA-vcRM_"
      },
      "execution_count": null,
      "outputs": []
    },
    {
      "cell_type": "markdown",
      "source": [
        "Training"
      ],
      "metadata": {
        "id": "9QCSBYJLcT6W"
      }
    },
    {
      "cell_type": "code",
      "source": [
        "training_args = TrainingArguments(\n",
        "    fp16=True,\n",
        "    output_dir=\"./results\",\n",
        "    evaluation_strategy=\"epoch\",\n",
        "    save_strategy=\"epoch\",\n",
        "    logging_dir=\"./logs\",\n",
        "    logging_steps=100,\n",
        "    learning_rate=2e-5,\n",
        "    per_device_train_batch_size=16,\n",
        "    per_device_eval_batch_size=16,\n",
        "    num_train_epochs=10,\n",
        "    weight_decay=0.01,\n",
        "    load_best_model_at_end=True,\n",
        "    metric_for_best_model=\"accuracy\",\n",
        "    save_total_limit=1\n",
        ")"
      ],
      "metadata": {
        "id": "O0HuxZqNcSlc"
      },
      "execution_count": null,
      "outputs": []
    },
    {
      "cell_type": "code",
      "source": [
        "def compute_metrics(eval_pred):\n",
        "    logits, labels = eval_pred\n",
        "    predictions = np.argmax(logits, axis=-1)\n",
        "    accuracy = accuracy_score(labels, predictions)\n",
        "    f1 = f1_score(labels, predictions, average=\"weighted\")\n",
        "    return {\"accuracy\": accuracy, \"f1\": f1}\n",
        "\n",
        "trainer = Trainer(\n",
        "    model=model,\n",
        "    args=training_args,\n",
        "    train_dataset=train_dataset,\n",
        "    eval_dataset=valid_dataset,\n",
        "    tokenizer=tokenizer,\n",
        "    data_collator=data_collator,\n",
        "    compute_metrics=compute_metrics\n",
        ")"
      ],
      "metadata": {
        "id": "x2js-INOcWty"
      },
      "execution_count": null,
      "outputs": []
    },
    {
      "cell_type": "code",
      "source": [
        "trainer.train()"
      ],
      "metadata": {
        "id": "wPnwDHzdcdGT"
      },
      "execution_count": null,
      "outputs": []
    },
    {
      "cell_type": "markdown",
      "source": [
        "Saved Model"
      ],
      "metadata": {
        "id": "1QyqZqO6zMLy"
      }
    },
    {
      "cell_type": "code",
      "source": [
        "trainer.save_model(\"/content/drive/My Drive/indonlu/trained_model\")"
      ],
      "metadata": {
        "id": "KzKSS60YzLs2"
      },
      "execution_count": null,
      "outputs": []
    },
    {
      "cell_type": "markdown",
      "source": [
        "Prediksi"
      ],
      "metadata": {
        "id": "DiHKCxuvRf5H"
      }
    },
    {
      "cell_type": "code",
      "source": [
        "predictions = trainer.predict(test_dataset)\n",
        "predicted_labels = np.argmax(predictions.predictions, axis=1)"
      ],
      "metadata": {
        "id": "bS_Xz1dbRhS2"
      },
      "execution_count": null,
      "outputs": []
    },
    {
      "cell_type": "markdown",
      "source": [
        "Evaluasi"
      ],
      "metadata": {
        "id": "dBiX8cADcgJ5"
      }
    },
    {
      "cell_type": "code",
      "source": [
        "results = trainer.evaluate()\n",
        "print(results)"
      ],
      "metadata": {
        "id": "CY1GWXk3ch8q"
      },
      "execution_count": null,
      "outputs": []
    },
    {
      "cell_type": "code",
      "source": [
        "# Evaluasi\n",
        "results = trainer.evaluate()\n",
        "print(results)\n",
        "\n",
        "# Prediksi pada data validasi\n",
        "predictions = trainer.predict(valid_dataset)\n",
        "predicted_labels = np.argmax(predictions.predictions, axis=1)\n",
        "\n",
        "# Classification report\n",
        "print(classification_report(valid_dataset[\"label\"], predicted_labels))\n",
        "\n",
        "# Confusion matrix\n",
        "cm = confusion_matrix(valid_dataset[\"label\"], predicted_labels)\n",
        "sns.heatmap(cm, annot=True, fmt=\"d\", cmap=\"Blues\")\n",
        "plt.xlabel(\"Predicted Labels\")\n",
        "plt.ylabel(\"True Labels\")\n",
        "plt.title(\"Confusion Matrix\")\n",
        "plt.show()"
      ],
      "metadata": {
        "id": "XJPgGyYEPImy"
      },
      "execution_count": null,
      "outputs": []
    },
    {
      "cell_type": "markdown",
      "source": [
        "Visualisasi"
      ],
      "metadata": {
        "id": "nyT4PqucclT2"
      }
    },
    {
      "cell_type": "code",
      "source": [
        "all_text = \" \".join(train_df[\"text\"].tolist())"
      ],
      "metadata": {
        "id": "QuOlfBkpB-nS"
      },
      "execution_count": null,
      "outputs": []
    },
    {
      "cell_type": "code",
      "source": [
        "kata_hubung = [\n",
        "    \"dan\", \"atau\", \"tetapi\", \"karena\", \"sehingga\", \"maka\", \"jika\", \"bila\", \"bahwa\",\n",
        "    \"walaupun\", \"meskipun\", \"sedangkan\", \"sambil\", \"seraya\", \"lalu\", \"kemudian\",\n",
        "    \"setelah\", \"sebelum\", \"sejak\", \"hingga\", \"sampai\", \"supaya\", \"untuk\", \"demi\",\n",
        "    \"sebab\", \"oleh karena itu\", \"padahal\", \"walau\", \"apalagi\", \"bahkan\",\n",
        "    \"baik ... maupun ...\", \"tidak hanya ... tetapi juga ...\",\n",
        "    \"bukan hanya ... melainkan juga ...\", \"agar\", \"daripada\", \"tatkala\", \"ketika\",\n",
        "    \"selagi\", \"asalkan\", \"seperti\", \"misalnya\", \"seandainya\", \"kendati\", \"tanpa\"\n",
        "]"
      ],
      "metadata": {
        "id": "U_GqYJh3hkWV"
      },
      "execution_count": null,
      "outputs": []
    },
    {
      "cell_type": "code",
      "source": [
        "kata_subjek = [\n",
        "    \"saya\", \"aku\", \"kami\", \"kita\", \"anda\", \"engkau\", \"kamu\", \"kalian\",\n",
        "    \"dia\", \"ia\", \"mereka\", \"-nya\", \"ini\", \"itu\", \"tersebut\", \"sini\", \"situ\",\n",
        "    \"sana\", \"siapa\", \"apa\", \"yang\"\n",
        "]"
      ],
      "metadata": {
        "id": "yWAZh5YiiCdw"
      },
      "execution_count": null,
      "outputs": []
    },
    {
      "cell_type": "code",
      "source": [
        "def create_wordcloud(text, title):\n",
        "  stopwords = set(STOPWORDS)\n",
        "  stopwords.update([kata_subjek, kata_hubung])\n",
        "\n",
        "  wordcloud = WordCloud(\n",
        "      width=800,\n",
        "      height=400,\n",
        "      background_color=\"white\",\n",
        "      colormap=\"viridis\",\n",
        "      max_words=200,\n",
        "      contour_color=\"steelblue\",\n",
        "      contour_width=2,\n",
        "      stopwords=stopwords  # Tambahkan stopwords\n",
        "  ).generate(all_text)"
      ],
      "metadata": {
        "id": "oyk-ooZG5mI9"
      },
      "execution_count": null,
      "outputs": []
    },
    {
      "cell_type": "code",
      "source": [
        "plt.figure(figsize=(10, 6))\n",
        "plt.imshow(wordcloud, interpolation=\"bilinear\")\n",
        "plt.axis(\"off\")\n",
        "plt.title(\"Word Cloud of Sentiment Data\", fontsize=16)\n",
        "plt.show()"
      ],
      "metadata": {
        "id": "Bsx5CNdM5n3_"
      },
      "execution_count": null,
      "outputs": []
    },
    {
      "cell_type": "code",
      "source": [
        "# Pisahkan teks berdasarkan label\n",
        "positive_text = \" \".join(train_df[train_df[\"label\"] == 0][\"text\"].tolist())\n",
        "neutral_text = \" \".join(train_df[train_df[\"label\"] == 1][\"text\"].tolist())\n",
        "negative_text = \" \".join(train_df[train_df[\"label\"] == 2][\"text\"].tolist())"
      ],
      "metadata": {
        "id": "IWjs1hUIQndv"
      },
      "execution_count": null,
      "outputs": []
    },
    {
      "cell_type": "code",
      "source": [
        "kata_hubung = [\n",
        "    \"dan\", \"atau\", \"tetapi\", \"karena\", \"sehingga\", \"maka\", \"jika\", \"bila\", \"bahwa\",\n",
        "    \"walaupun\", \"meskipun\", \"sedangkan\", \"sambil\", \"seraya\", \"lalu\", \"kemudian\",\n",
        "    \"setelah\", \"sebelum\", \"sejak\", \"hingga\", \"sampai\", \"supaya\", \"untuk\", \"demi\",\n",
        "    \"sebab\", \"oleh karena itu\", \"padahal\", \"walau\", \"apalagi\", \"bahkan\",\n",
        "    \"baik ... maupun ...\", \"tidak hanya ... tetapi juga ...\",\n",
        "    \"bukan hanya ... melainkan juga ...\", \"agar\", \"daripada\", \"tatkala\", \"ketika\",\n",
        "    \"selagi\", \"asalkan\", \"seperti\", \"misalnya\", \"seandainya\", \"kendati\", \"tanpa\"\n",
        "]"
      ],
      "metadata": {
        "id": "q00i5Zpoiioi"
      },
      "execution_count": null,
      "outputs": []
    },
    {
      "cell_type": "code",
      "source": [
        "kata_subjek = [\n",
        "    \"saya\", \"aku\", \"kami\", \"kita\", \"anda\", \"engkau\", \"kamu\", \"kalian\",\n",
        "    \"dia\", \"ia\", \"mereka\", \"-nya\", \"ini\", \"itu\", \"tersebut\", \"sini\", \"situ\",\n",
        "    \"sana\", \"siapa\", \"apa\", \"yang\"\n",
        "]"
      ],
      "metadata": {
        "id": "z7Y9uN_eii_4"
      },
      "execution_count": null,
      "outputs": []
    },
    {
      "cell_type": "code",
      "source": [
        "def create_wordcloud(text, title):\n",
        "    # Gabungkan stopwords default dan tambahan\n",
        "    stopwords_set = set(stopwords.words('indonesian'))\n",
        "    stopwords_set.update(kata_subjek)\n",
        "    stopwords_set.update(kata_hubung)\n",
        "\n",
        "    # Tentukan colormap berdasarkan judul\n",
        "    if \"Positive\" in title:\n",
        "        colormap = \"Greens\"  # Dominan hijau untuk positif\n",
        "    elif \"Negative\" in title:\n",
        "        colormap = \"Reds\"    # Dominan merah untuk negatif\n",
        "    else:\n",
        "        colormap = \"Greys\"   # Dominan abu-abu untuk netral\n",
        "\n",
        "    wordcloud = WordCloud(\n",
        "        width=800,\n",
        "        height=400,\n",
        "        background_color=\"white\",\n",
        "        colormap=colormap,\n",
        "        max_words=200,\n",
        "        contour_color=\"steelblue\",\n",
        "        contour_width=2,\n",
        "        stopwords=stopwords_set\n",
        "    ).generate(text)\n",
        "\n",
        "    plt.figure(figsize=(10, 6))\n",
        "    plt.imshow(wordcloud, interpolation=\"bilinear\")\n",
        "    plt.axis(\"off\")\n",
        "    plt.title(title, fontsize=16)\n",
        "    plt.show()\n"
      ],
      "metadata": {
        "id": "u7jzrhM6Qq_b"
      },
      "execution_count": null,
      "outputs": []
    },
    {
      "cell_type": "code",
      "source": [
        "create_wordcloud(positive_text, \"Word Cloud - Positive Sentiment\")\n",
        "create_wordcloud(neutral_text, \"Word Cloud - Neutral Sentiment\")\n",
        "create_wordcloud(negative_text, \"Word Cloud - Negative Sentiment\")"
      ],
      "metadata": {
        "id": "VSfr2cWEQuFR"
      },
      "execution_count": null,
      "outputs": []
    },
    {
      "cell_type": "markdown",
      "source": [
        "Test Model"
      ],
      "metadata": {
        "id": "UFs9NTkURDtV"
      }
    },
    {
      "cell_type": "code",
      "source": [
        "# Prediksi pada data test\n",
        "predictions = trainer.predict(test_dataset) # Changed to use test_dataset\n",
        "predicted_labels = np.argmax(predictions.predictions, axis=1)"
      ],
      "metadata": {
        "id": "c3ihXoRtRLJG"
      },
      "execution_count": null,
      "outputs": []
    },
    {
      "cell_type": "code",
      "source": [
        "# Evaluasi\n",
        "accuracy = accuracy_score(test_dataset[\"label\"], predicted_labels)\n",
        "print(f\"Accuracy on test data: {accuracy * 100:.2f}%\")"
      ],
      "metadata": {
        "id": "6FJmlh0DcfbE"
      },
      "execution_count": null,
      "outputs": []
    }
  ]
}